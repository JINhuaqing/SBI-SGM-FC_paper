{
 "cells": [
  {
   "cell_type": "markdown",
   "id": "afb20312",
   "metadata": {},
   "source": [
    "Analyze SBI-SGM, new bounds, new SGM, only three parameters needed\n",
    "\n",
    "parameters order is  :tauG,speed,alpha (In second)"
   ]
  },
  {
   "cell_type": "markdown",
   "id": "15b93230",
   "metadata": {},
   "source": [
    "## Import some pkgs"
   ]
  },
  {
   "cell_type": "code",
   "execution_count": 1,
   "id": "a5c4bef0",
   "metadata": {
    "ExecuteTime": {
     "end_time": "2023-10-26T17:26:34.613193Z",
     "start_time": "2023-10-26T17:26:33.303765Z"
    }
   },
   "outputs": [],
   "source": [
    "import sys\n",
    "sys.path.append(\"./mypkg\")\n",
    "\n",
    "import scipy\n",
    "import itertools\n",
    "\n",
    "import numpy as np\n",
    "import xarray as xr\n",
    "import matplotlib.pyplot as plt\n",
    "import seaborn as sns\n",
    "import pandas as pd\n",
    "\n",
    "from tqdm import trange\n",
    "from scipy.io import loadmat\n",
    "from functools import partial\n",
    "from easydict import EasyDict as edict"
   ]
  },
  {
   "cell_type": "code",
   "execution_count": 2,
   "id": "129d24a5",
   "metadata": {
    "ExecuteTime": {
     "end_time": "2023-10-26T17:26:35.966721Z",
     "start_time": "2023-10-26T17:26:34.614237Z"
    }
   },
   "outputs": [],
   "source": [
    "# SBI and torch\n",
    "from sbi.inference.base import infer\n",
    "from sbi.inference import SNPE, prepare_for_sbi, simulate_for_sbi\n",
    "from sbi import analysis\n",
    "from sbi.utils.get_nn_models import posterior_nn\n",
    "from sbi import utils as sutils\n",
    "\n",
    "import torch.nn as nn\n",
    "import torch.nn.functional as F\n",
    "import torch\n",
    "from torch.distributions.multivariate_normal import MultivariateNormal"
   ]
  },
  {
   "cell_type": "code",
   "execution_count": 3,
   "id": "513f09d5",
   "metadata": {
    "ExecuteTime": {
     "end_time": "2023-10-26T17:26:36.011552Z",
     "start_time": "2023-10-26T17:26:35.967941Z"
    }
   },
   "outputs": [],
   "source": [
    "# my own fns\n",
    "from brain import Brain\n",
    "from FC_utils import build_fc_freq_m\n",
    "from constants import RES_ROOT, DATA_ROOT\n",
    "from utils.misc import load_pkl, save_pkl\n",
    "from utils.reparam import theta_raw_2out, logistic_np, logistic_torch"
   ]
  },
  {
   "cell_type": "code",
   "execution_count": null,
   "id": "d5b87c78",
   "metadata": {
    "ExecuteTime": {
     "end_time": "2022-11-08T00:03:09.655902Z",
     "start_time": "2022-11-08T00:03:09.466344Z"
    }
   },
   "outputs": [],
   "source": []
  },
  {
   "cell_type": "markdown",
   "id": "820f27bd",
   "metadata": {},
   "source": [
    "## Some fns"
   ]
  },
  {
   "cell_type": "code",
   "execution_count": 4,
   "id": "58536d30",
   "metadata": {
    "ExecuteTime": {
     "end_time": "2023-10-26T17:26:36.053962Z",
     "start_time": "2023-10-26T17:26:36.015186Z"
    }
   },
   "outputs": [],
   "source": [
    "from scipy.stats import kendalltau\n",
    "from scipy.stats import spearmanr\n",
    "from utils.measures import geodesic_dist, reg_R_fn, lin_R_fn\n",
    "\n",
    "def divideFc(fc):\n",
    "    \"\"\"Divide the FC into three blocks and vector them\n",
    "    \"\"\"\n",
    "    size_fc = len(fc)\n",
    "    hs_fc = int(size_fc/2)\n",
    "    fc_block1 = fc[:hs_fc, :hs_fc]\n",
    "    fc_block2 = fc[hs_fc:, hs_fc:];\n",
    "    fc_block3 = fc[:hs_fc, hs_fc:];\n",
    "    vec1 = _minmax_vec(fc_block1[np.triu_indices(hs_fc, k = 1)])\n",
    "    vec2 = _minmax_vec(fc_block2[np.triu_indices(hs_fc, k = 1)])\n",
    "    vec3 = _minmax_vec(fc_block3.flatten())\n",
    "    return vec1, vec2, vec3\n",
    "\n",
    "def cal_metrics(fc1, fc2):\n",
    "    \"\"\"Calculate the distance between fc1 and fc2, including\n",
    "        1. geodesic dist\n",
    "        2. pearson's R\n",
    "        3. lin R\n",
    "        4. pearson's R after divide the FC into three blocks\n",
    "        5. lin R after divide the FC into three blocks\n",
    "    \"\"\"\n",
    "    fc1 = fc1.astype(np.float64)\n",
    "    fc2 = fc2.astype(np.float64)\n",
    "    size_fc = len(fc1)\n",
    "    \n",
    "    \n",
    "    fc1_c = _minmax_vec(fc1[np.triu_indices(size_fc, k=1)]).reshape(1, -1)\n",
    "    fc2_c = _minmax_vec(fc2[np.triu_indices(size_fc, k=1)]).reshape(1, -1)\n",
    "    \n",
    "    # all metrics\n",
    "    reg_r = reg_R_fn(fc1_c, fc2_c)\n",
    "    lin_r = lin_R_fn(fc1_c, fc2_c)\n",
    "    mse = np.mean((fc1_c-fc2_c)**2)\n",
    "    \n",
    "    \n",
    "    res = edict()\n",
    "    res.reg_r = reg_r[0]\n",
    "    res.lin_r = lin_r[0]\n",
    "    res.mse = mse\n",
    "    return res\n",
    "\n",
    "def cal_metrics_batch(fc1s, fc2s):\n",
    "    \"\"\"fc1s, fc2s: num_fc x 68 x 68\n",
    "    \"\"\"\n",
    "    ress = ddict(list)\n",
    "    for ix in range(len(fc1s)):\n",
    "        fc_t = fc2s[ix]\n",
    "        fc_e = fc1s[ix]\n",
    "        res = cal_metrics(fc_t, fc_e)\n",
    "        for key, v in res.items():\n",
    "            ress[key].append(v)\n",
    "    \n",
    "    return ress"
   ]
  },
  {
   "cell_type": "code",
   "execution_count": 5,
   "id": "d56c17fd",
   "metadata": {
    "ExecuteTime": {
     "end_time": "2023-10-26T17:26:36.335735Z",
     "start_time": "2023-10-26T17:26:36.056332Z"
    }
   },
   "outputs": [],
   "source": [
    "def _simulate_data(raw_params, brain, prior_bds, freqrange):\n",
    "    params = []\n",
    "    for raw_param, prior_bd in zip(raw_params, prior_bds):\n",
    "        param =  _map_fn_torch(raw_param)*(prior_bd[1]-prior_bd[0]) + prior_bd[0]\n",
    "        params.append(param)\n",
    "    params = torch.tensor(params)\n",
    "    \n",
    "    params_dict = dict()\n",
    "    params_dict[\"tauC\"] =  params[0].item()\n",
    "    params_dict[\"speed\"] =  params[1].item()\n",
    "    params_dict[\"alpha\"] =  params[2].item()\n",
    "    modelFC = build_fc_freq_m(brain , params_dict, freqrange)\n",
    "    return np.abs(modelFC[:68, :68])"
   ]
  },
  {
   "cell_type": "code",
   "execution_count": 6,
   "id": "81762f84",
   "metadata": {
    "ExecuteTime": {
     "end_time": "2023-10-26T17:26:36.365546Z",
     "start_time": "2023-10-26T17:26:36.340421Z"
    }
   },
   "outputs": [
    {
     "data": {
      "text/plain": [
       "<function __main__.<lambda>(x)>"
      ]
     },
     "execution_count": 6,
     "metadata": {},
     "output_type": "execute_result"
    }
   ],
   "source": [
    "_minmax_vec = lambda x: (x-np.min(x))/(np.max(x)-np.min(x))"
   ]
  },
  {
   "cell_type": "code",
   "execution_count": 7,
   "id": "9daeac1d",
   "metadata": {
    "ExecuteTime": {
     "end_time": "2023-10-26T17:26:36.808916Z",
     "start_time": "2023-10-26T17:26:36.803065Z"
    }
   },
   "outputs": [],
   "source": [
    "# transfer vec to a sym mat\n",
    "def _vec_2mat(vec):\n",
    "    mat = np.zeros((68, 68))\n",
    "    mat[np.triu_indices(68, k = 1)] = vec\n",
    "    mat = mat + mat.T\n",
    "    return mat"
   ]
  },
  {
   "cell_type": "code",
   "execution_count": 8,
   "id": "65fa4ae9",
   "metadata": {
    "ExecuteTime": {
     "end_time": "2023-10-26T17:26:37.250892Z",
     "start_time": "2023-10-26T17:26:37.245047Z"
    }
   },
   "outputs": [],
   "source": [
    "def get_mode(x):\n",
    "    kde_est = scipy.stats.gaussian_kde(x)\n",
    "    xs = np.linspace(x.min(), x.max(), 500)\n",
    "    ys = kde_est(xs)\n",
    "    return xs[np.argmax(ys)]"
   ]
  },
  {
   "cell_type": "markdown",
   "id": "12bd0463",
   "metadata": {},
   "source": [
    "### Some parameters"
   ]
  },
  {
   "cell_type": "code",
   "execution_count": 9,
   "id": "1b1c015a",
   "metadata": {
    "ExecuteTime": {
     "end_time": "2023-10-26T17:26:39.029356Z",
     "start_time": "2023-10-26T17:26:39.023405Z"
    }
   },
   "outputs": [],
   "source": [
    "_paras = edict()\n",
    "_paras.delta = [2, 3.5]\n",
    "_paras.theta = [4, 7]\n",
    "_paras.alpha = [8, 12]\n",
    "_paras.beta_l = [13, 20]\n"
   ]
  },
  {
   "cell_type": "code",
   "execution_count": 34,
   "id": "74f883ac",
   "metadata": {
    "ExecuteTime": {
     "end_time": "2023-10-26T17:31:11.550489Z",
     "start_time": "2023-10-26T17:31:11.533159Z"
    }
   },
   "outputs": [
    {
     "name": "stdout",
     "output_type": "stream",
     "text": [
      "[4.   4.75 5.5  6.25 7.  ]\n",
      "rawfc2_SBIxANNBW_theta_ep100_num1000_densitynsf_MR3_noise_sd120_addv1\n"
     ]
    }
   ],
   "source": [
    "paras = edict()\n",
    "\n",
    "paras.band= \"theta\" #stick to coh\n",
    "paras.freqrange =  np.linspace(_paras[paras.band][0], _paras[paras.band][1], 5)\n",
    "paras.save_prefix = \"rawfc2\"\n",
    "print(paras.freqrange)\n",
    "paras.fs = 600\n",
    "paras.num_nodes = 86 # Number of cortical (68) + subcortical nodes\n",
    "paras.par_low = np.asarray([0.005, 5, 0.1])\n",
    "paras.par_high = np.asarray([0.03, 20, 1])\n",
    "paras.names = [\"TauC\", \"Speed\", \"alpha\"]\n",
    "paras.prior_bds = np.array([paras.par_low, paras.par_high]).T\n",
    "paras.add_v = 0.01\n",
    "paras.nepoch = 100\n",
    "paras.k = 1 # without ann, k=0.1, with ann, k = 1\n",
    "\n",
    "paras.SBI_paras = edict()\n",
    "paras.SBI_paras.num_prior_sps = int(1e3)\n",
    "paras.SBI_paras.density_model = \"nsf\"\n",
    "paras.SBI_paras.num_round = 3\n",
    "paras.SBI_paras.noise_sd = 1.20\n",
    "paras.SBI_paras.save_dir = (f\"{paras.save_prefix}_SBIxANNBW_{paras.band}_\"\n",
    "                            f\"ep{paras.nepoch}_\"\n",
    "                            f\"num{paras.SBI_paras.num_prior_sps}_\" \n",
    "                            f\"density{paras.SBI_paras.density_model}_\" \n",
    "                            f\"MR{paras.SBI_paras.num_round}_\" \n",
    "                            f\"noise_sd{paras.SBI_paras.noise_sd*100:.0f}_\"\n",
    "                            f\"addv{paras.add_v*100:.0f}\")\n",
    "print(paras.SBI_paras.save_dir)\n",
    "assert (RES_ROOT/paras.SBI_paras.save_dir).exists()"
   ]
  },
  {
   "cell_type": "code",
   "execution_count": 35,
   "id": "0b853363",
   "metadata": {
    "ExecuteTime": {
     "end_time": "2023-10-26T17:31:12.120622Z",
     "start_time": "2023-10-26T17:31:12.114496Z"
    }
   },
   "outputs": [],
   "source": [
    "# fn for reparemetering\n",
    "_map_fn_torch = partial(logistic_torch, k=paras.k)\n",
    "_theta_raw_2out = partial(theta_raw_2out, map_fn=partial(logistic_np, k=paras.k), prior_bds=paras.prior_bds);"
   ]
  },
  {
   "cell_type": "code",
   "execution_count": null,
   "id": "f2b0bc3a",
   "metadata": {
    "ExecuteTime": {
     "end_time": "2023-09-22T16:33:09.116370Z",
     "start_time": "2023-09-22T16:33:09.103735Z"
    }
   },
   "outputs": [],
   "source": []
  },
  {
   "cell_type": "code",
   "execution_count": null,
   "id": "d66040ab",
   "metadata": {},
   "outputs": [],
   "source": []
  },
  {
   "cell_type": "markdown",
   "id": "cc57cec6",
   "metadata": {},
   "source": [
    "### Load the data"
   ]
  },
  {
   "cell_type": "code",
   "execution_count": 36,
   "id": "b78325a1",
   "metadata": {
    "ExecuteTime": {
     "end_time": "2023-10-26T17:31:13.674828Z",
     "start_time": "2023-10-26T17:31:13.649690Z"
    }
   },
   "outputs": [],
   "source": [
    "# SC\n",
    "ind_conn_xr = xr.open_dataarray(DATA_ROOT/'individual_connectomes_reordered.nc')\n",
    "ind_conn = ind_conn_xr.values\n",
    "\n",
    "# PSD\n",
    "ind_psd_xr = xr.open_dataarray(DATA_ROOT/'individual_psd_reordered_matlab.nc')\n",
    "ind_psd = ind_psd_xr.values\n",
    "fvec = ind_psd_xr[\"frequencies\"].values;"
   ]
  },
  {
   "cell_type": "code",
   "execution_count": 37,
   "id": "ee5a4fc9",
   "metadata": {
    "ExecuteTime": {
     "end_time": "2023-10-26T17:31:14.309152Z",
     "start_time": "2023-10-26T17:31:14.274512Z"
    }
   },
   "outputs": [
    {
     "name": "stdout",
     "output_type": "stream",
     "text": [
      "Add 0.01 on diag\n"
     ]
    }
   ],
   "source": [
    "\n",
    "def _add_v2con(cur_ind_conn):\n",
    "    cur_ind_conn = cur_ind_conn.copy()\n",
    "    add_v = np.quantile(cur_ind_conn, 0.99)*paras.add_v # tuning 0.1\n",
    "    np.fill_diagonal(cur_ind_conn[:34, 34:68], np.diag(cur_ind_conn[:34, 34:68]) + add_v)\n",
    "    np.fill_diagonal(cur_ind_conn[34:68, :34], np.diag(cur_ind_conn[34:68, :34]) + add_v)\n",
    "    np.fill_diagonal(cur_ind_conn[68:77, 77:], np.diag(cur_ind_conn[68:77, 77:]) + add_v)\n",
    "    np.fill_diagonal(cur_ind_conn[77:, 68:77], np.diag(cur_ind_conn[77:, 68:77]) + add_v)\n",
    "    return cur_ind_conn\n",
    "\n",
    "\n",
    "if paras.add_v != 0:\n",
    "    print(f\"Add {paras.add_v} on diag\")\n",
    "    ind_conn_adds = [_add_v2con(ind_conn[:, :, ix]) for ix in range(36)]\n",
    "    ind_conn = np.transpose(np.array(ind_conn_adds), (1, 2, 0))"
   ]
  },
  {
   "cell_type": "code",
   "execution_count": 38,
   "id": "8946be59",
   "metadata": {
    "ExecuteTime": {
     "end_time": "2023-10-26T17:31:16.290636Z",
     "start_time": "2023-10-26T17:31:15.065056Z"
    }
   },
   "outputs": [
    {
     "data": {
      "text/plain": [
       "(36, 68, 68)"
      ]
     },
     "execution_count": 38,
     "metadata": {},
     "output_type": "execute_result"
    }
   ],
   "source": [
    "# em FC\n",
    "fc_root = RES_ROOT/\"emp_fcs2\"\n",
    "def _get_fc(sub_ix, bd):\n",
    "    fil = list(fc_root.rglob(f\"*{bd}*nepoch-{paras.nepoch}*/sub{sub_ix}.pkl\"))[0]\n",
    "    return load_pkl(fil, verbose=False)\n",
    "\n",
    "fcs = np.array([_get_fc(sub_ix, paras.band) for sub_ix in range(36)]);\n",
    "fcs.shape"
   ]
  },
  {
   "cell_type": "code",
   "execution_count": null,
   "id": "06dd3072",
   "metadata": {},
   "outputs": [],
   "source": []
  },
  {
   "cell_type": "markdown",
   "id": "88dc5304",
   "metadata": {},
   "source": [
    "## Save metrics"
   ]
  },
  {
   "cell_type": "code",
   "execution_count": 39,
   "id": "52e911f0",
   "metadata": {
    "ExecuteTime": {
     "end_time": "2023-10-26T17:31:20.552493Z",
     "start_time": "2023-10-26T17:31:20.543025Z"
    }
   },
   "outputs": [],
   "source": [
    "res_fils = list((RES_ROOT/paras.SBI_paras.save_dir).glob(\"ind*.pkl\"))\n",
    "_sorted_fn = lambda x: int(x.stem.split(\"ind\")[-1][:])\n",
    "sorted_fils = sorted(res_fils, key=_sorted_fn);"
   ]
  },
  {
   "cell_type": "code",
   "execution_count": null,
   "id": "0db365e4",
   "metadata": {
    "ExecuteTime": {
     "end_time": "2023-10-26T17:31:32.603687Z",
     "start_time": "2023-10-26T17:31:21.364659Z"
    },
    "scrolled": true
   },
   "outputs": [],
   "source": [
    "inf_res = edict()\n",
    "inf_res.est_FCs = []\n",
    "\n",
    "metrics = []\n",
    "for sub_idx in range(36):\n",
    "    cur_posterior = load_pkl(sorted_fils[sub_idx], False)\n",
    "    post_sps = cur_posterior.sample((1000, ))\n",
    "    cur_est_paras = torch.mean(post_sps, axis=0)\n",
    "    #cur_est_paras = torch.median(post_sps, axis=0)[0]\n",
    "        \n",
    "    # get the cur brain\n",
    "    brain = Brain.Brain()\n",
    "    brain.add_connectome(DATA_ROOT) # grabs distance matrix\n",
    "    brain.reorder_connectome(brain.connectome, brain.distance_matrix)\n",
    "    brain.connectome =  ind_conn[:, :, sub_idx] # re-assign connectome to individual connectome\n",
    "    brain.bi_symmetric_c()\n",
    "    brain.reduce_extreme_dir()\n",
    "        \n",
    "    cur_obs_FC = np.abs(fcs[sub_idx])\n",
    "    cur_est_FC = np.abs(_simulate_data(cur_est_paras, \n",
    "                                   brain=brain, \n",
    "                                   prior_bds=paras.prior_bds, \n",
    "                                   freqrange=paras.freqrange\n",
    "                                  ))\n",
    "    est_vec = _minmax_vec(cur_est_FC[np.triu_indices(68, k = 1)])\n",
    "    obs_vec = _minmax_vec(cur_obs_FC[np.triu_indices(68, k = 1)])\n",
    "    metrics.append(cal_metrics(cur_obs_FC, cur_est_FC))\n",
    "    inf_res.est_FCs.append(cur_est_FC)\n",
    "inf_res.metrics = metrics\n",
    "save_pkl(sorted_fils[0].parent/\"inf_res.pkl\", inf_res, True)"
   ]
  },
  {
   "cell_type": "code",
   "execution_count": 41,
   "id": "23e284d6",
   "metadata": {
    "ExecuteTime": {
     "end_time": "2023-10-26T17:31:39.385645Z",
     "start_time": "2023-10-26T17:31:39.347765Z"
    }
   },
   "outputs": [
    {
     "data": {
      "text/html": [
       "<div>\n",
       "<style scoped>\n",
       "    .dataframe tbody tr th:only-of-type {\n",
       "        vertical-align: middle;\n",
       "    }\n",
       "\n",
       "    .dataframe tbody tr th {\n",
       "        vertical-align: top;\n",
       "    }\n",
       "\n",
       "    .dataframe thead th {\n",
       "        text-align: right;\n",
       "    }\n",
       "</style>\n",
       "<table border=\"1\" class=\"dataframe\">\n",
       "  <thead>\n",
       "    <tr style=\"text-align: right;\">\n",
       "      <th></th>\n",
       "      <th>geo_dist</th>\n",
       "      <th>reg_r</th>\n",
       "      <th>lin_r</th>\n",
       "      <th>tau_r</th>\n",
       "      <th>sp_r</th>\n",
       "      <th>mse</th>\n",
       "      <th>reg_r_block</th>\n",
       "      <th>lin_r_block</th>\n",
       "    </tr>\n",
       "  </thead>\n",
       "  <tbody>\n",
       "    <tr>\n",
       "      <th>count</th>\n",
       "      <td>36.000000</td>\n",
       "      <td>36.000000</td>\n",
       "      <td>36.000000</td>\n",
       "      <td>36.000000</td>\n",
       "      <td>36.000000</td>\n",
       "      <td>36.000000</td>\n",
       "      <td>36.000000</td>\n",
       "      <td>36.000000</td>\n",
       "    </tr>\n",
       "    <tr>\n",
       "      <th>mean</th>\n",
       "      <td>0.577286</td>\n",
       "      <td>0.449915</td>\n",
       "      <td>0.424801</td>\n",
       "      <td>0.251102</td>\n",
       "      <td>0.366458</td>\n",
       "      <td>0.052011</td>\n",
       "      <td>0.416168</td>\n",
       "      <td>0.376628</td>\n",
       "    </tr>\n",
       "    <tr>\n",
       "      <th>std</th>\n",
       "      <td>0.030231</td>\n",
       "      <td>0.056301</td>\n",
       "      <td>0.066429</td>\n",
       "      <td>0.042661</td>\n",
       "      <td>0.059896</td>\n",
       "      <td>0.011713</td>\n",
       "      <td>0.046307</td>\n",
       "      <td>0.057535</td>\n",
       "    </tr>\n",
       "    <tr>\n",
       "      <th>min</th>\n",
       "      <td>0.526889</td>\n",
       "      <td>0.314881</td>\n",
       "      <td>0.280346</td>\n",
       "      <td>0.132646</td>\n",
       "      <td>0.198444</td>\n",
       "      <td>0.035244</td>\n",
       "      <td>0.334540</td>\n",
       "      <td>0.235001</td>\n",
       "    </tr>\n",
       "    <tr>\n",
       "      <th>25%</th>\n",
       "      <td>0.556062</td>\n",
       "      <td>0.412829</td>\n",
       "      <td>0.382957</td>\n",
       "      <td>0.219487</td>\n",
       "      <td>0.325456</td>\n",
       "      <td>0.043189</td>\n",
       "      <td>0.385905</td>\n",
       "      <td>0.346287</td>\n",
       "    </tr>\n",
       "    <tr>\n",
       "      <th>50%</th>\n",
       "      <td>0.574069</td>\n",
       "      <td>0.448704</td>\n",
       "      <td>0.423730</td>\n",
       "      <td>0.255357</td>\n",
       "      <td>0.370585</td>\n",
       "      <td>0.049157</td>\n",
       "      <td>0.417045</td>\n",
       "      <td>0.376735</td>\n",
       "    </tr>\n",
       "    <tr>\n",
       "      <th>75%</th>\n",
       "      <td>0.591767</td>\n",
       "      <td>0.491300</td>\n",
       "      <td>0.467627</td>\n",
       "      <td>0.283593</td>\n",
       "      <td>0.413631</td>\n",
       "      <td>0.058308</td>\n",
       "      <td>0.450914</td>\n",
       "      <td>0.410358</td>\n",
       "    </tr>\n",
       "    <tr>\n",
       "      <th>max</th>\n",
       "      <td>0.664392</td>\n",
       "      <td>0.582316</td>\n",
       "      <td>0.573000</td>\n",
       "      <td>0.330586</td>\n",
       "      <td>0.479517</td>\n",
       "      <td>0.088564</td>\n",
       "      <td>0.550312</td>\n",
       "      <td>0.525761</td>\n",
       "    </tr>\n",
       "  </tbody>\n",
       "</table>\n",
       "</div>"
      ],
      "text/plain": [
       "        geo_dist      reg_r      lin_r      tau_r       sp_r        mse  \\\n",
       "count  36.000000  36.000000  36.000000  36.000000  36.000000  36.000000   \n",
       "mean    0.577286   0.449915   0.424801   0.251102   0.366458   0.052011   \n",
       "std     0.030231   0.056301   0.066429   0.042661   0.059896   0.011713   \n",
       "min     0.526889   0.314881   0.280346   0.132646   0.198444   0.035244   \n",
       "25%     0.556062   0.412829   0.382957   0.219487   0.325456   0.043189   \n",
       "50%     0.574069   0.448704   0.423730   0.255357   0.370585   0.049157   \n",
       "75%     0.591767   0.491300   0.467627   0.283593   0.413631   0.058308   \n",
       "max     0.664392   0.582316   0.573000   0.330586   0.479517   0.088564   \n",
       "\n",
       "       reg_r_block  lin_r_block  \n",
       "count    36.000000    36.000000  \n",
       "mean      0.416168     0.376628  \n",
       "std       0.046307     0.057535  \n",
       "min       0.334540     0.235001  \n",
       "25%       0.385905     0.346287  \n",
       "50%       0.417045     0.376735  \n",
       "75%       0.450914     0.410358  \n",
       "max       0.550312     0.525761  "
      ]
     },
     "execution_count": 41,
     "metadata": {},
     "output_type": "execute_result"
    }
   ],
   "source": [
    "metrics_df = pd.DataFrame(metrics);\n",
    "metrics_df.describe()"
   ]
  },
  {
   "cell_type": "code",
   "execution_count": null,
   "id": "ed09930b",
   "metadata": {},
   "outputs": [],
   "source": []
  },
  {
   "cell_type": "code",
   "execution_count": null,
   "id": "5d7462c2",
   "metadata": {},
   "outputs": [],
   "source": []
  }
 ],
 "metadata": {
  "kernelspec": {
   "display_name": "Python 3 (ipykernel)",
   "language": "python",
   "name": "python3"
  },
  "language_info": {
   "codemirror_mode": {
    "name": "ipython",
    "version": 3
   },
   "file_extension": ".py",
   "mimetype": "text/x-python",
   "name": "python",
   "nbconvert_exporter": "python",
   "pygments_lexer": "ipython3",
   "version": "3.9.19"
  },
  "toc": {
   "base_numbering": 1,
   "nav_menu": {},
   "number_sections": true,
   "sideBar": true,
   "skip_h1_title": false,
   "title_cell": "Table of Contents",
   "title_sidebar": "Contents",
   "toc_cell": false,
   "toc_position": {
    "height": "calc(100% - 180px)",
    "left": "10px",
    "top": "150px",
    "width": "165px"
   },
   "toc_section_display": true,
   "toc_window_display": true
  }
 },
 "nbformat": 4,
 "nbformat_minor": 5
}
