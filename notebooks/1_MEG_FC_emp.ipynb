{
 "cells": [
  {
   "cell_type": "markdown",
   "id": "2b562041",
   "metadata": {},
   "source": [
    "This file is to obtain the empirical FC\n",
    "\n",
    "it is wierd that `torch` and `mne_connectivity.spectral_connectivity_epochs`, they are not compatible. \n",
    "\n",
    "If I import `torch` first, it causes errors."
   ]
  },
  {
   "cell_type": "code",
   "execution_count": null,
   "id": "eceb0190",
   "metadata": {},
   "outputs": [],
   "source": []
  },
  {
   "cell_type": "markdown",
   "id": "15b93230",
   "metadata": {},
   "source": [
    "# Import some pkgs"
   ]
  },
  {
   "cell_type": "code",
   "execution_count": 4,
   "id": "a5c4bef0",
   "metadata": {
    "ExecuteTime": {
     "end_time": "2023-10-30T20:35:33.014124Z",
     "start_time": "2023-10-30T20:35:31.374971Z"
    }
   },
   "outputs": [],
   "source": [
    "import sys\n",
    "sys.path.append(\"./mypkg\")\n",
    "\n",
    "import scipy\n",
    "import itertools\n",
    "\n",
    "import numpy as np\n",
    "import xarray as xr\n",
    "import matplotlib.pyplot as plt\n",
    "import seaborn as sns\n",
    "\n",
    "from tqdm import trange\n",
    "from scipy.io import loadmat\n",
    "from functools import partial\n",
    "from easydict import EasyDict as edict\n",
    "from collections import defaultdict as ddict\n",
    "from scipy import signal"
   ]
  },
  {
   "cell_type": "code",
   "execution_count": 6,
   "id": "513f09d5",
   "metadata": {
    "ExecuteTime": {
     "end_time": "2023-10-30T20:35:33.105745Z",
     "start_time": "2023-10-30T20:35:33.017205Z"
    }
   },
   "outputs": [],
   "source": [
    "# my own fns\n",
    "from brain import Brain\n",
    "from constants import RES_ROOT, DATA_ROOT, FIG_ROOT\n",
    "from utils.misc import load_pkl, save_pkl\n",
    "from utils.measures import geodesic_dist, reg_R_fn, lin_R_fn\n",
    "\n",
    "plt.style.use(FIG_ROOT/\"base.mplstyle\")"
   ]
  },
  {
   "cell_type": "code",
   "execution_count": 2,
   "id": "d5b87c78",
   "metadata": {
    "ExecuteTime": {
     "end_time": "2023-10-30T20:35:36.629542Z",
     "start_time": "2023-10-30T20:35:33.108354Z"
    }
   },
   "outputs": [],
   "source": [
    "# main fn to estimate FC\n",
    "from mne_connectivity import spectral_connectivity_epochs\n",
    "import mne\n",
    "import logging\n",
    "mne.set_log_level(logging.WARNING)"
   ]
  },
  {
   "cell_type": "code",
   "execution_count": null,
   "id": "1f44c20c",
   "metadata": {},
   "outputs": [],
   "source": [
    "\n"
   ]
  },
  {
   "cell_type": "markdown",
   "id": "45834aa9",
   "metadata": {},
   "source": [
    "# Load data"
   ]
  },
  {
   "cell_type": "code",
   "execution_count": 7,
   "id": "847eb293",
   "metadata": {
    "ExecuteTime": {
     "end_time": "2023-10-30T20:35:43.982363Z",
     "start_time": "2023-10-30T20:35:36.634907Z"
    }
   },
   "outputs": [
    {
     "data": {
      "text/plain": [
       "(68, 36000)"
      ]
     },
     "execution_count": 7,
     "metadata": {},
     "output_type": "execute_result"
    }
   ],
   "source": [
    "# SC\n",
    "ind_conn_xr = xr.open_dataarray(DATA_ROOT/'individual_connectomes_reordered.nc')\n",
    "ind_conn = ind_conn_xr.values;\n",
    "#\n",
    "ind_ts_xr = xr.open_dataarray(DATA_ROOT/'meg_individual_tseries_reordered.nc')\n",
    "ind_ts = ind_ts_xr.values;\n",
    "ind_ts[:, :, 0].shape"
   ]
  },
  {
   "cell_type": "code",
   "execution_count": null,
   "id": "2bf76366",
   "metadata": {},
   "outputs": [],
   "source": []
  },
  {
   "cell_type": "markdown",
   "id": "7089aa93",
   "metadata": {},
   "source": [
    "# Estimate FC\n",
    "\n",
    "From Farras (on Sep 19, 2023)\n",
    "\n",
    "1. Detrend \n",
    "\n",
    "2. bdpass filter \n",
    "\n",
    "3. Get FC"
   ]
  },
  {
   "cell_type": "code",
   "execution_count": 8,
   "id": "ba3a6cdb",
   "metadata": {
    "ExecuteTime": {
     "end_time": "2023-09-28T02:48:29.197692Z",
     "start_time": "2023-09-28T02:48:29.181308Z"
    }
   },
   "outputs": [],
   "source": [
    "def _2matf(mat):\n",
    "    mat_f = mat + mat.T\n",
    "    mat_f = mat_f - np.diag(np.diag(mat))\n",
    "    return mat_f\n",
    "\n",
    "def get_fc2(input_signal, paras):\n",
    "    \"\"\"\n",
    "    Calculate functional connectivity from input_signal using the parameters in paras.\n",
    "\n",
    "    Parameters:\n",
    "    input_signal (numpy.ndarray): Input signal with shape (n_channels, n_timepont)\n",
    "    paras (dict): Dictionary containing the following keys and values:\n",
    "        - nepoch (int): Number of epochs\n",
    "        - fc_type (str): Functional connectivity method\n",
    "        - f_skip (int): Frequency skip\n",
    "        - bd (str): Frequency band\n",
    "        - faverage (bool): If True, average the connectivity over frequency bands\n",
    "\n",
    "    Returns:\n",
    "    numpy.ndarray: Functional connectivity matrix\n",
    "    \"\"\"\n",
    "    paras = edict(paras.copy())\n",
    "    input_signal = signal.detrend(input_signal, axis=1, type=\"linear\", bp=0, overwrite_data=False);\n",
    "    bii = signal.firwin(_num_taps[_bd_order.index(paras.bd)], \n",
    "                       _bd_limits[paras.bd], \n",
    "                       pass_zero=False, \n",
    "                       fs=_fs, \n",
    "                       window=\"hamming\");\n",
    "\n",
    "\n",
    "    input_signal = signal.filtfilt(bii, 1, input_signal, axis=1);\n",
    "    \n",
    "    if paras.nepoch == 1:\n",
    "        input_signal = input_signal[np.newaxis]\n",
    "    else:\n",
    "        input_signal = input_signal.reshape(68, paras.nepoch, -1).transpose(1, 0, 2)\n",
    "    \n",
    "    ts_con = spectral_connectivity_epochs(input_signal,\n",
    "                                          names=None, \n",
    "                                          method=paras.fc_type, \n",
    "                                          indices=None, \n",
    "                                          sfreq=_fs, \n",
    "                                          mode='multitaper',\n",
    "                                          fmin=None, \n",
    "                                          fmax=np.inf,\n",
    "                                          fskip=paras.f_skip, \n",
    "                                          faverage=True, \n",
    "                                          tmin=None, \n",
    "                                          tmax=None,  \n",
    "                                          mt_bandwidth=None, \n",
    "                                          mt_adaptive=False, \n",
    "                                          mt_low_bias=True, \n",
    "                                          cwt_freqs=None, \n",
    "                                          cwt_n_cycles=7, \n",
    "                                          block_size=1000, \n",
    "                                          n_jobs=1, \n",
    "                                          verbose=False)\n",
    "    mat = ts_con.get_data(output='dense').squeeze();\n",
    "    return _2matf(mat)"
   ]
  },
  {
   "cell_type": "code",
   "execution_count": 9,
   "id": "2392927c",
   "metadata": {
    "ExecuteTime": {
     "end_time": "2023-09-28T02:48:31.673778Z",
     "start_time": "2023-09-28T02:48:31.664790Z"
    }
   },
   "outputs": [],
   "source": [
    "_bd_limits = edict()\n",
    "_bd_limits.delta = [2, 3.5]\n",
    "_bd_limits.theta = [4, 7]\n",
    "_bd_limits.alpha = [8, 12]\n",
    "_bd_limits.beta = [13, 20]\n",
    "_bd_limits.beta_l = [13, 20]\n",
    "_bd_limits.beta_h = [15, 25]\n",
    "\n",
    "_num_taps = np.array([551, 351, 351, 351, 251, 251]);\n",
    "_bd_order = ['delta' , 'theta', 'alpha' , 'beta', 'beta_l', 'beta_h'] \n",
    "\n",
    "_fs = 600 # sampling freq\n",
    "\n",
    "paras = edict()\n",
    "paras.bd = \"alpha\"\n",
    "paras.fc_type = \"coh\"\n",
    "paras.f_skip = 29\n",
    "paras.nepoch = 1\n",
    "\n"
   ]
  },
  {
   "cell_type": "markdown",
   "id": "a5f28067",
   "metadata": {},
   "source": [
    "## Check the FC"
   ]
  },
  {
   "cell_type": "code",
   "execution_count": 10,
   "id": "52424198",
   "metadata": {
    "ExecuteTime": {
     "end_time": "2023-09-23T04:17:32.940064Z",
     "start_time": "2023-09-23T04:17:22.091897Z"
    }
   },
   "outputs": [],
   "source": [
    "data = ind_ts[:, :, -1];\n",
    "\n",
    "paras1 = edict()\n",
    "paras1.bd = \"theta\"\n",
    "paras1.fc_type = \"coh\"\n",
    "paras1.f_skip = 0\n",
    "paras1.nepoch = 100\n",
    "\n",
    "paras2 = edict()\n",
    "paras2.bd = \"theta\"\n",
    "paras2.fc_type = \"coh\"\n",
    "paras2.f_skip = 10\n",
    "paras2.nepoch = 100\n",
    "\n",
    "mat1 = get_fc2(data, paras1);\n",
    "mat2 = get_fc2(data, paras2);"
   ]
  },
  {
   "cell_type": "code",
   "execution_count": 11,
   "id": "4c3cb05e",
   "metadata": {
    "ExecuteTime": {
     "end_time": "2023-09-23T04:17:40.200397Z",
     "start_time": "2023-09-23T04:17:39.867896Z"
    }
   },
   "outputs": [
    {
     "data": {
      "text/plain": [
       "<Axes: title={'center': '100 Epoch'}>"
      ]
     },
     "execution_count": 11,
     "metadata": {},
     "output_type": "execute_result"
    },
    {
     "data": {
      "image/png": "[encoded data removed]",
      "text/plain": [
       "<Figure size 1200x500 with 4 Axes>"
      ]
     },
     "metadata": {},
     "output_type": "display_data"
    }
   ],
   "source": [
    "plt.figure(figsize=[12, 5])\n",
    "plt.subplot(121)\n",
    "plt.title(f\"{paras1.nepoch} Epoch\")\n",
    "sns.heatmap(mat1, square=True, vmin=0, vmax=1, cmap=\"viridis\")\n",
    "plt.subplot(122)\n",
    "plt.title(f\"{paras2.nepoch} Epoch\")\n",
    "sns.heatmap(mat2, square=True, vmin=0, vmax=1, cmap=\"viridis\")"
   ]
  },
  {
   "cell_type": "markdown",
   "id": "83299154",
   "metadata": {},
   "source": [
    "## Save"
   ]
  },
  {
   "cell_type": "code",
   "execution_count": 12,
   "id": "ed24b9de",
   "metadata": {
    "ExecuteTime": {
     "end_time": "2023-09-28T02:48:36.704611Z",
     "start_time": "2023-09-28T02:48:36.698885Z"
    }
   },
   "outputs": [],
   "source": [
    "def _get_filename(params):\n",
    "    keys = sorted(list(params.keys()))\n",
    "    fil_name= '_'.join(f\"{k}-{params[k]}\" for k in keys)\n",
    "    return fil_name"
   ]
  },
  {
   "cell_type": "code",
   "execution_count": 16,
   "id": "095814e8",
   "metadata": {
    "ExecuteTime": {
     "end_time": "2023-09-28T02:55:14.754056Z",
     "start_time": "2023-09-28T02:54:34.735348Z"
    },
    "scrolled": true
   },
   "outputs": [
    {
     "name": "stderr",
     "output_type": "stream",
     "text": [
      "Band: delta.:   3%|███▍                                                                                                                         | 1/36 [00:01<00:40,  1.15s/it]"
     ]
    },
    {
     "name": "stdout",
     "output_type": "stream",
     "text": [
      "/data/rajlab1/user_data/jin/MyResearch/SBI-SGM-FC/notebooks/new_sgm/../../mypkg/../results/emp_fcs2/bd-delta_f_skip-10_fc_type-coh_nepoch-20\n",
      "Create a folder /data/rajlab1/user_data/jin/MyResearch/SBI-SGM-FC/notebooks/new_sgm/../../mypkg/../results/emp_fcs2/bd-delta_f_skip-10_fc_type-coh_nepoch-20\n",
      "Save to /data/rajlab1/user_data/jin/MyResearch/SBI-SGM-FC/notebooks/new_sgm/../../mypkg/../results/emp_fcs2/bd-delta_f_skip-10_fc_type-coh_nepoch-20/sub0.pkl\n"
     ]
    },
    {
     "name": "stderr",
     "output_type": "stream",
     "text": [
      "\r\n",
      "Band: delta.:   6%|██████▉                                                                                                                      | 2/36 [00:02<00:38,  1.13s/it]"
     ]
    },
    {
     "name": "stdout",
     "output_type": "stream",
     "text": [
      "Save to /data/rajlab1/user_data/jin/MyResearch/SBI-SGM-FC/notebooks/new_sgm/../../mypkg/../results/emp_fcs2/bd-delta_f_skip-10_fc_type-coh_nepoch-20/sub1.pkl\n"
     ]
    },
    {
     "name": "stderr",
     "output_type": "stream",
     "text": [
      "\r\n",
      "Band: delta.:   8%|██████████▍                                                                                                                  | 3/36 [00:03<00:36,  1.12s/it]"
     ]
    },
    {
     "name": "stdout",
     "output_type": "stream",
     "text": [
      "Save to /data/rajlab1/user_data/jin/MyResearch/SBI-SGM-FC/notebooks/new_sgm/../../mypkg/../results/emp_fcs2/bd-delta_f_skip-10_fc_type-coh_nepoch-20/sub2.pkl\n"
     ]
    },
    {
     "name": "stderr",
     "output_type": "stream",
     "text": [
      "\r\n",
      "Band: delta.:  11%|█████████████▉                                                                                                               | 4/36 [00:04<00:35,  1.12s/it]"
     ]
    },
    {
     "name": "stdout",
     "output_type": "stream",
     "text": [
      "Save to /data/rajlab1/user_data/jin/MyResearch/SBI-SGM-FC/notebooks/new_sgm/../../mypkg/../results/emp_fcs2/bd-delta_f_skip-10_fc_type-coh_nepoch-20/sub3.pkl\n"
     ]
    },
    {
     "name": "stderr",
     "output_type": "stream",
     "text": [
      "\r\n",
      "Band: delta.:  14%|█████████████████▎                                                                                                           | 5/36 [00:05<00:34,  1.11s/it]"
     ]
    },
    {
     "name": "stdout",
     "output_type": "stream",
     "text": [
      "Save to /data/rajlab1/user_data/jin/MyResearch/SBI-SGM-FC/notebooks/new_sgm/../../mypkg/../results/emp_fcs2/bd-delta_f_skip-10_fc_type-coh_nepoch-20/sub4.pkl\n"
     ]
    },
    {
     "name": "stderr",
     "output_type": "stream",
     "text": [
      "\r\n",
      "Band: delta.:  17%|████████████████████▊                                                                                                        | 6/36 [00:06<00:33,  1.11s/it]"
     ]
    },
    {
     "name": "stdout",
     "output_type": "stream",
     "text": [
      "Save to /data/rajlab1/user_data/jin/MyResearch/SBI-SGM-FC/notebooks/new_sgm/../../mypkg/../results/emp_fcs2/bd-delta_f_skip-10_fc_type-coh_nepoch-20/sub5.pkl\n"
     ]
    },
    {
     "name": "stderr",
     "output_type": "stream",
     "text": [
      "\r\n",
      "Band: delta.:  19%|████████████████████████▎                                                                                                    | 7/36 [00:07<00:31,  1.09s/it]"
     ]
    },
    {
     "name": "stdout",
     "output_type": "stream",
     "text": [
      "Save to /data/rajlab1/user_data/jin/MyResearch/SBI-SGM-FC/notebooks/new_sgm/../../mypkg/../results/emp_fcs2/bd-delta_f_skip-10_fc_type-coh_nepoch-20/sub6.pkl\n"
     ]
    },
    {
     "name": "stderr",
     "output_type": "stream",
     "text": [
      "\r\n",
      "Band: delta.:  22%|███████████████████████████▊                                                                                                 | 8/36 [00:08<00:31,  1.12s/it]"
     ]
    },
    {
     "name": "stdout",
     "output_type": "stream",
     "text": [
      "Save to /data/rajlab1/user_data/jin/MyResearch/SBI-SGM-FC/notebooks/new_sgm/../../mypkg/../results/emp_fcs2/bd-delta_f_skip-10_fc_type-coh_nepoch-20/sub7.pkl\n"
     ]
    },
    {
     "name": "stderr",
     "output_type": "stream",
     "text": [
      "\r\n",
      "Band: delta.:  25%|███████████████████████████████▎                                                                                             | 9/36 [00:10<00:30,  1.13s/it]"
     ]
    },
    {
     "name": "stdout",
     "output_type": "stream",
     "text": [
      "Save to /data/rajlab1/user_data/jin/MyResearch/SBI-SGM-FC/notebooks/new_sgm/../../mypkg/../results/emp_fcs2/bd-delta_f_skip-10_fc_type-coh_nepoch-20/sub8.pkl\n"
     ]
    },
    {
     "name": "stderr",
     "output_type": "stream",
     "text": [
      "\r\n",
      "Band: delta.:  28%|██████████████████████████████████▍                                                                                         | 10/36 [00:11<00:29,  1.12s/it]"
     ]
    },
    {
     "name": "stdout",
     "output_type": "stream",
     "text": [
      "Save to /data/rajlab1/user_data/jin/MyResearch/SBI-SGM-FC/notebooks/new_sgm/../../mypkg/../results/emp_fcs2/bd-delta_f_skip-10_fc_type-coh_nepoch-20/sub9.pkl\n"
     ]
    },
    {
     "name": "stderr",
     "output_type": "stream",
     "text": [
      "\r\n",
      "Band: delta.:  31%|█████████████████████████████████████▉                                                                                      | 11/36 [00:12<00:28,  1.13s/it]"
     ]
    },
    {
     "name": "stdout",
     "output_type": "stream",
     "text": [
      "Save to /data/rajlab1/user_data/jin/MyResearch/SBI-SGM-FC/notebooks/new_sgm/../../mypkg/../results/emp_fcs2/bd-delta_f_skip-10_fc_type-coh_nepoch-20/sub10.pkl\n"
     ]
    },
    {
     "name": "stderr",
     "output_type": "stream",
     "text": [
      "\r\n",
      "Band: delta.:  33%|█████████████████████████████████████████▎                                                                                  | 12/36 [00:13<00:26,  1.09s/it]"
     ]
    },
    {
     "name": "stdout",
     "output_type": "stream",
     "text": [
      "Save to /data/rajlab1/user_data/jin/MyResearch/SBI-SGM-FC/notebooks/new_sgm/../../mypkg/../results/emp_fcs2/bd-delta_f_skip-10_fc_type-coh_nepoch-20/sub11.pkl\n"
     ]
    },
    {
     "name": "stderr",
     "output_type": "stream",
     "text": [
      "\r\n",
      "Band: delta.:  36%|████████████████████████████████████████████▊                                                                               | 13/36 [00:14<00:25,  1.11s/it]"
     ]
    },
    {
     "name": "stdout",
     "output_type": "stream",
     "text": [
      "Save to /data/rajlab1/user_data/jin/MyResearch/SBI-SGM-FC/notebooks/new_sgm/../../mypkg/../results/emp_fcs2/bd-delta_f_skip-10_fc_type-coh_nepoch-20/sub12.pkl\n"
     ]
    },
    {
     "name": "stderr",
     "output_type": "stream",
     "text": [
      "\r\n",
      "Band: delta.:  39%|████████████████████████████████████████████████▏                                                                           | 14/36 [00:15<00:24,  1.12s/it]"
     ]
    },
    {
     "name": "stdout",
     "output_type": "stream",
     "text": [
      "Save to /data/rajlab1/user_data/jin/MyResearch/SBI-SGM-FC/notebooks/new_sgm/../../mypkg/../results/emp_fcs2/bd-delta_f_skip-10_fc_type-coh_nepoch-20/sub13.pkl\n"
     ]
    },
    {
     "name": "stderr",
     "output_type": "stream",
     "text": [
      "\r\n",
      "Band: delta.:  42%|███████████████████████████████████████████████████▋                                                                        | 15/36 [00:16<00:23,  1.11s/it]"
     ]
    },
    {
     "name": "stdout",
     "output_type": "stream",
     "text": [
      "Save to /data/rajlab1/user_data/jin/MyResearch/SBI-SGM-FC/notebooks/new_sgm/../../mypkg/../results/emp_fcs2/bd-delta_f_skip-10_fc_type-coh_nepoch-20/sub14.pkl\n"
     ]
    },
    {
     "name": "stderr",
     "output_type": "stream",
     "text": [
      "\r\n",
      "Band: delta.:  44%|███████████████████████████████████████████████████████                                                                     | 16/36 [00:17<00:22,  1.11s/it]"
     ]
    },
    {
     "name": "stdout",
     "output_type": "stream",
     "text": [
      "Save to /data/rajlab1/user_data/jin/MyResearch/SBI-SGM-FC/notebooks/new_sgm/../../mypkg/../results/emp_fcs2/bd-delta_f_skip-10_fc_type-coh_nepoch-20/sub15.pkl\n"
     ]
    },
    {
     "name": "stderr",
     "output_type": "stream",
     "text": [
      "\r\n",
      "Band: delta.:  47%|██████████████████████████████████████████████████████████▌                                                                 | 17/36 [00:18<00:21,  1.12s/it]"
     ]
    },
    {
     "name": "stdout",
     "output_type": "stream",
     "text": [
      "Save to /data/rajlab1/user_data/jin/MyResearch/SBI-SGM-FC/notebooks/new_sgm/../../mypkg/../results/emp_fcs2/bd-delta_f_skip-10_fc_type-coh_nepoch-20/sub16.pkl\n"
     ]
    },
    {
     "name": "stderr",
     "output_type": "stream",
     "text": [
      "\r\n",
      "Band: delta.:  50%|██████████████████████████████████████████████████████████████                                                              | 18/36 [00:20<00:20,  1.12s/it]"
     ]
    },
    {
     "name": "stdout",
     "output_type": "stream",
     "text": [
      "Save to /data/rajlab1/user_data/jin/MyResearch/SBI-SGM-FC/notebooks/new_sgm/../../mypkg/../results/emp_fcs2/bd-delta_f_skip-10_fc_type-coh_nepoch-20/sub17.pkl\n"
     ]
    },
    {
     "name": "stderr",
     "output_type": "stream",
     "text": [
      "\r\n",
      "Band: delta.:  53%|█████████████████████████████████████████████████████████████████▍                                                          | 19/36 [00:21<00:19,  1.12s/it]"
     ]
    },
    {
     "name": "stdout",
     "output_type": "stream",
     "text": [
      "Save to /data/rajlab1/user_data/jin/MyResearch/SBI-SGM-FC/notebooks/new_sgm/../../mypkg/../results/emp_fcs2/bd-delta_f_skip-10_fc_type-coh_nepoch-20/sub18.pkl\n"
     ]
    },
    {
     "name": "stderr",
     "output_type": "stream",
     "text": [
      "\r\n",
      "Band: delta.:  56%|████████████████████████████████████████████████████████████████████▉                                                       | 20/36 [00:22<00:17,  1.12s/it]"
     ]
    },
    {
     "name": "stdout",
     "output_type": "stream",
     "text": [
      "Save to /data/rajlab1/user_data/jin/MyResearch/SBI-SGM-FC/notebooks/new_sgm/../../mypkg/../results/emp_fcs2/bd-delta_f_skip-10_fc_type-coh_nepoch-20/sub19.pkl\n"
     ]
    },
    {
     "name": "stderr",
     "output_type": "stream",
     "text": [
      "\r\n",
      "Band: delta.:  58%|████████████████████████████████████████████████████████████████████████▎                                                   | 21/36 [00:23<00:16,  1.09s/it]"
     ]
    },
    {
     "name": "stdout",
     "output_type": "stream",
     "text": [
      "Save to /data/rajlab1/user_data/jin/MyResearch/SBI-SGM-FC/notebooks/new_sgm/../../mypkg/../results/emp_fcs2/bd-delta_f_skip-10_fc_type-coh_nepoch-20/sub20.pkl\n"
     ]
    },
    {
     "name": "stderr",
     "output_type": "stream",
     "text": [
      "\r\n",
      "Band: delta.:  61%|███████████████████████████████████████████████████████████████████████████▊                                                | 22/36 [00:24<00:15,  1.10s/it]"
     ]
    },
    {
     "name": "stdout",
     "output_type": "stream",
     "text": [
      "Save to /data/rajlab1/user_data/jin/MyResearch/SBI-SGM-FC/notebooks/new_sgm/../../mypkg/../results/emp_fcs2/bd-delta_f_skip-10_fc_type-coh_nepoch-20/sub21.pkl\n"
     ]
    },
    {
     "name": "stderr",
     "output_type": "stream",
     "text": [
      "\r\n",
      "Band: delta.:  64%|███████████████████████████████████████████████████████████████████████████████▏                                            | 23/36 [00:25<00:14,  1.10s/it]"
     ]
    },
    {
     "name": "stdout",
     "output_type": "stream",
     "text": [
      "Save to /data/rajlab1/user_data/jin/MyResearch/SBI-SGM-FC/notebooks/new_sgm/../../mypkg/../results/emp_fcs2/bd-delta_f_skip-10_fc_type-coh_nepoch-20/sub22.pkl\n"
     ]
    },
    {
     "name": "stderr",
     "output_type": "stream",
     "text": [
      "\r\n",
      "Band: delta.:  67%|██████████████████████████████████████████████████████████████████████████████████▋                                         | 24/36 [00:26<00:13,  1.11s/it]"
     ]
    },
    {
     "name": "stdout",
     "output_type": "stream",
     "text": [
      "Save to /data/rajlab1/user_data/jin/MyResearch/SBI-SGM-FC/notebooks/new_sgm/../../mypkg/../results/emp_fcs2/bd-delta_f_skip-10_fc_type-coh_nepoch-20/sub23.pkl\n"
     ]
    },
    {
     "name": "stderr",
     "output_type": "stream",
     "text": [
      "\r\n",
      "Band: delta.:  69%|██████████████████████████████████████████████████████████████████████████████████████                                      | 25/36 [00:27<00:11,  1.08s/it]"
     ]
    },
    {
     "name": "stdout",
     "output_type": "stream",
     "text": [
      "Save to /data/rajlab1/user_data/jin/MyResearch/SBI-SGM-FC/notebooks/new_sgm/../../mypkg/../results/emp_fcs2/bd-delta_f_skip-10_fc_type-coh_nepoch-20/sub24.pkl\n"
     ]
    },
    {
     "name": "stderr",
     "output_type": "stream",
     "text": [
      "\r\n",
      "Band: delta.:  72%|█████████████████████████████████████████████████████████████████████████████████████████▌                                  | 26/36 [00:28<00:10,  1.09s/it]"
     ]
    },
    {
     "name": "stdout",
     "output_type": "stream",
     "text": [
      "Save to /data/rajlab1/user_data/jin/MyResearch/SBI-SGM-FC/notebooks/new_sgm/../../mypkg/../results/emp_fcs2/bd-delta_f_skip-10_fc_type-coh_nepoch-20/sub25.pkl\n"
     ]
    },
    {
     "name": "stderr",
     "output_type": "stream",
     "text": [
      "\r\n",
      "Band: delta.:  75%|█████████████████████████████████████████████████████████████████████████████████████████████                               | 27/36 [00:29<00:09,  1.10s/it]"
     ]
    },
    {
     "name": "stdout",
     "output_type": "stream",
     "text": [
      "Save to /data/rajlab1/user_data/jin/MyResearch/SBI-SGM-FC/notebooks/new_sgm/../../mypkg/../results/emp_fcs2/bd-delta_f_skip-10_fc_type-coh_nepoch-20/sub26.pkl\n"
     ]
    },
    {
     "name": "stderr",
     "output_type": "stream",
     "text": [
      "\r\n",
      "Band: delta.:  78%|████████████████████████████████████████████████████████████████████████████████████████████████▍                           | 28/36 [00:31<00:08,  1.12s/it]"
     ]
    },
    {
     "name": "stdout",
     "output_type": "stream",
     "text": [
      "Save to /data/rajlab1/user_data/jin/MyResearch/SBI-SGM-FC/notebooks/new_sgm/../../mypkg/../results/emp_fcs2/bd-delta_f_skip-10_fc_type-coh_nepoch-20/sub27.pkl\n"
     ]
    },
    {
     "name": "stderr",
     "output_type": "stream",
     "text": [
      "\r\n",
      "Band: delta.:  81%|███████████████████████████████████████████████████████████████████████████████████████████████████▉                        | 29/36 [00:32<00:07,  1.12s/it]"
     ]
    },
    {
     "name": "stdout",
     "output_type": "stream",
     "text": [
      "Save to /data/rajlab1/user_data/jin/MyResearch/SBI-SGM-FC/notebooks/new_sgm/../../mypkg/../results/emp_fcs2/bd-delta_f_skip-10_fc_type-coh_nepoch-20/sub28.pkl\n"
     ]
    },
    {
     "name": "stderr",
     "output_type": "stream",
     "text": [
      "\r\n",
      "Band: delta.:  83%|███████████████████████████████████████████████████████████████████████████████████████████████████████▎                    | 30/36 [00:33<00:06,  1.09s/it]"
     ]
    },
    {
     "name": "stdout",
     "output_type": "stream",
     "text": [
      "Save to /data/rajlab1/user_data/jin/MyResearch/SBI-SGM-FC/notebooks/new_sgm/../../mypkg/../results/emp_fcs2/bd-delta_f_skip-10_fc_type-coh_nepoch-20/sub29.pkl\n"
     ]
    },
    {
     "name": "stderr",
     "output_type": "stream",
     "text": [
      "\r\n",
      "Band: delta.:  86%|██████████████████████████████████████████████████████████████████████████████████████████████████████████▊                 | 31/36 [00:34<00:05,  1.10s/it]"
     ]
    },
    {
     "name": "stdout",
     "output_type": "stream",
     "text": [
      "Save to /data/rajlab1/user_data/jin/MyResearch/SBI-SGM-FC/notebooks/new_sgm/../../mypkg/../results/emp_fcs2/bd-delta_f_skip-10_fc_type-coh_nepoch-20/sub30.pkl\n"
     ]
    },
    {
     "name": "stderr",
     "output_type": "stream",
     "text": [
      "\r\n",
      "Band: delta.:  89%|██████████████████████████████████████████████████████████████████████████████████████████████████████████████▏             | 32/36 [00:35<00:04,  1.11s/it]"
     ]
    },
    {
     "name": "stdout",
     "output_type": "stream",
     "text": [
      "Save to /data/rajlab1/user_data/jin/MyResearch/SBI-SGM-FC/notebooks/new_sgm/../../mypkg/../results/emp_fcs2/bd-delta_f_skip-10_fc_type-coh_nepoch-20/sub31.pkl\n"
     ]
    },
    {
     "name": "stderr",
     "output_type": "stream",
     "text": [
      "\r\n",
      "Band: delta.:  92%|█████████████████████████████████████████████████████████████████████████████████████████████████████████████████▋          | 33/36 [00:36<00:03,  1.11s/it]"
     ]
    },
    {
     "name": "stdout",
     "output_type": "stream",
     "text": [
      "Save to /data/rajlab1/user_data/jin/MyResearch/SBI-SGM-FC/notebooks/new_sgm/../../mypkg/../results/emp_fcs2/bd-delta_f_skip-10_fc_type-coh_nepoch-20/sub32.pkl\n"
     ]
    },
    {
     "name": "stderr",
     "output_type": "stream",
     "text": [
      "\r\n",
      "Band: delta.:  94%|█████████████████████████████████████████████████████████████████████████████████████████████████████████████████████       | 34/36 [00:37<00:02,  1.11s/it]"
     ]
    },
    {
     "name": "stdout",
     "output_type": "stream",
     "text": [
      "Save to /data/rajlab1/user_data/jin/MyResearch/SBI-SGM-FC/notebooks/new_sgm/../../mypkg/../results/emp_fcs2/bd-delta_f_skip-10_fc_type-coh_nepoch-20/sub33.pkl\n"
     ]
    },
    {
     "name": "stderr",
     "output_type": "stream",
     "text": [
      "\r\n",
      "Band: delta.:  97%|████████████████████████████████████████████████████████████████████████████████████████████████████████████████████████▌   | 35/36 [00:38<00:01,  1.12s/it]"
     ]
    },
    {
     "name": "stdout",
     "output_type": "stream",
     "text": [
      "Save to /data/rajlab1/user_data/jin/MyResearch/SBI-SGM-FC/notebooks/new_sgm/../../mypkg/../results/emp_fcs2/bd-delta_f_skip-10_fc_type-coh_nepoch-20/sub34.pkl\n"
     ]
    },
    {
     "name": "stderr",
     "output_type": "stream",
     "text": [
      "Band: delta.: 100%|████████████████████████████████████████████████████████████████████████████████████████████████████████████████████████████| 36/36 [00:40<00:00,  1.11s/it]"
     ]
    },
    {
     "name": "stdout",
     "output_type": "stream",
     "text": [
      "Save to /data/rajlab1/user_data/jin/MyResearch/SBI-SGM-FC/notebooks/new_sgm/../../mypkg/../results/emp_fcs2/bd-delta_f_skip-10_fc_type-coh_nepoch-20/sub35.pkl\n"
     ]
    },
    {
     "name": "stderr",
     "output_type": "stream",
     "text": [
      "\n"
     ]
    }
   ],
   "source": [
    "paras = edict()\n",
    "paras.bd = \"delta\"\n",
    "paras.fc_type = \"coh\"\n",
    "paras.f_skip = 10 \n",
    "paras.nepoch = 100\n",
    "\n",
    "for sub_ix in trange(36, desc=f\"Band: {paras.bd}.\"):\n",
    "    data = ind_ts[:, :, sub_ix];\n",
    "    mat = get_fc2(data, paras)\n",
    "    fold_name = _get_filename(paras)\n",
    "    fil_name = RES_ROOT/(\"emp_fcs2/\"+fold_name +f\"/sub{sub_ix}.pkl\")\n",
    "    save_pkl(fil_name, mat)"
   ]
  },
  {
   "cell_type": "code",
   "execution_count": null,
   "id": "a8feb914",
   "metadata": {},
   "outputs": [],
   "source": []
  }
 ],
 "metadata": {
  "kernelspec": {
   "display_name": "Python 3 (ipykernel)",
   "language": "python",
   "name": "python3"
  },
  "language_info": {
   "codemirror_mode": {
    "name": "ipython",
    "version": 3
   },
   "file_extension": ".py",
   "mimetype": "text/x-python",
   "name": "python",
   "nbconvert_exporter": "python",
   "pygments_lexer": "ipython3",
   "version": "3.9.19"
  },
  "toc": {
   "base_numbering": 1,
   "nav_menu": {},
   "number_sections": true,
   "sideBar": true,
   "skip_h1_title": false,
   "title_cell": "Table of Contents",
   "title_sidebar": "Contents",
   "toc_cell": false,
   "toc_position": {
    "height": "calc(100% - 180px)",
    "left": "10px",
    "top": "150px",
    "width": "205px"
   },
   "toc_section_display": true,
   "toc_window_display": true
  }
 },
 "nbformat": 4,
 "nbformat_minor": 5
}
