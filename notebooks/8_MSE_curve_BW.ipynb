{
 "cells": [
  {
   "cell_type": "markdown",
   "id": "afb20312",
   "metadata": {},
   "source": [
    "Analyze SBI-SGM, new bounds, new SGM, only three parameters needed\n",
    "\n",
    "parameters order is  :tauG,speed,alpha (In second)"
   ]
  },
  {
   "cell_type": "markdown",
   "id": "15b93230",
   "metadata": {},
   "source": [
    "## Import some pkgs"
   ]
  },
  {
   "cell_type": "code",
   "execution_count": 2,
   "id": "a5c4bef0",
   "metadata": {
    "ExecuteTime": {
     "end_time": "2023-10-26T17:26:34.613193Z",
     "start_time": "2023-10-26T17:26:33.303765Z"
    }
   },
   "outputs": [],
   "source": [
    "import sys\n",
    "sys.path.append(\"./mypkg\")\n",
    "from constants import RES_ROOT, DATA_ROOT, FIG_ROOT\n",
    "\n",
    "import scipy\n",
    "import itertools\n",
    "\n",
    "import numpy as np\n",
    "import xarray as xr\n",
    "import matplotlib.pyplot as plt\n",
    "import seaborn as sns\n",
    "import pandas as pd\n",
    "\n",
    "from tqdm import trange, tqdm\n",
    "from scipy.io import loadmat\n",
    "from functools import partial\n",
    "from easydict import EasyDict as edict\n",
    "plt.style.use(FIG_ROOT/\"base.mplstyle\")"
   ]
  },
  {
   "cell_type": "code",
   "execution_count": 3,
   "id": "129d24a5",
   "metadata": {
    "ExecuteTime": {
     "end_time": "2023-10-26T17:26:35.966721Z",
     "start_time": "2023-10-26T17:26:34.614237Z"
    }
   },
   "outputs": [],
   "source": [
    "# SBI and torch\n",
    "from sbi.inference.base import infer\n",
    "from sbi.inference import SNPE, prepare_for_sbi, simulate_for_sbi\n",
    "from sbi import analysis\n",
    "from sbi.utils.get_nn_models import posterior_nn\n",
    "from sbi import utils as sutils\n",
    "\n",
    "import torch.nn as nn\n",
    "import torch.nn.functional as F\n",
    "import torch\n",
    "from torch.distributions.multivariate_normal import MultivariateNormal"
   ]
  },
  {
   "cell_type": "code",
   "execution_count": 4,
   "id": "513f09d5",
   "metadata": {
    "ExecuteTime": {
     "end_time": "2023-10-26T17:26:36.011552Z",
     "start_time": "2023-10-26T17:26:35.967941Z"
    }
   },
   "outputs": [],
   "source": [
    "# my own fns\n",
    "from brain import Brain\n",
    "from FC_utils import build_fc_freq_m\n",
    "from constants import RES_ROOT, DATA_ROOT\n",
    "from utils.misc import load_pkl, save_pkl\n",
    "from utils.reparam import theta_raw_2out, logistic_np, logistic_torch"
   ]
  },
  {
   "cell_type": "code",
   "execution_count": null,
   "id": "d5b87c78",
   "metadata": {
    "ExecuteTime": {
     "end_time": "2022-11-08T00:03:09.655902Z",
     "start_time": "2022-11-08T00:03:09.466344Z"
    }
   },
   "outputs": [],
   "source": []
  },
  {
   "cell_type": "markdown",
   "id": "820f27bd",
   "metadata": {},
   "source": [
    "## Some fns"
   ]
  },
  {
   "cell_type": "code",
   "execution_count": 5,
   "id": "58536d30",
   "metadata": {
    "ExecuteTime": {
     "end_time": "2023-10-26T17:26:36.053962Z",
     "start_time": "2023-10-26T17:26:36.015186Z"
    }
   },
   "outputs": [],
   "source": [
    "from scipy.stats import kendalltau\n",
    "from scipy.stats import spearmanr\n",
    "from utils.measures import geodesic_dist, reg_R_fn, lin_R_fn\n",
    "\n",
    "def divideFc(fc):\n",
    "    \"\"\"Divide the FC into three blocks and vector them\n",
    "    \"\"\"\n",
    "    size_fc = len(fc)\n",
    "    hs_fc = int(size_fc/2)\n",
    "    fc_block1 = fc[:hs_fc, :hs_fc]\n",
    "    fc_block2 = fc[hs_fc:, hs_fc:];\n",
    "    fc_block3 = fc[:hs_fc, hs_fc:];\n",
    "    vec1 = _minmax_vec(fc_block1[np.triu_indices(hs_fc, k = 1)])\n",
    "    vec2 = _minmax_vec(fc_block2[np.triu_indices(hs_fc, k = 1)])\n",
    "    vec3 = _minmax_vec(fc_block3.flatten())\n",
    "    return vec1, vec2, vec3\n",
    "\n",
    "def cal_metrics(fc1, fc2):\n",
    "    \"\"\"Calculate the distance between fc1 and fc2, including\n",
    "        1. geodesic dist\n",
    "        2. pearson's R\n",
    "        3. lin R\n",
    "        4. pearson's R after divide the FC into three blocks\n",
    "        5. lin R after divide the FC into three blocks\n",
    "    \"\"\"\n",
    "    fc1 = fc1.astype(np.float64)\n",
    "    fc2 = fc2.astype(np.float64)\n",
    "    size_fc = len(fc1)\n",
    "    \n",
    "    # for geodedic\n",
    "    fc1_g = fc1/np.linalg.norm(fc1) + np.eye(size_fc)\n",
    "    fc2_g = fc2/np.linalg.norm(fc2) + np.eye(size_fc)\n",
    "    \n",
    "    fc1_c = _minmax_vec(fc1[np.triu_indices(size_fc, k=1)]).reshape(1, -1)\n",
    "    fc2_c = _minmax_vec(fc2[np.triu_indices(size_fc, k=1)]).reshape(1, -1)\n",
    "    \n",
    "    # all metrics\n",
    "    geo_dist = geodesic_dist(fc1_g, fc2_g)\n",
    "    reg_r = reg_R_fn(fc1_c, fc2_c)\n",
    "    lin_r = lin_R_fn(fc1_c, fc2_c)\n",
    "    mse = np.mean((fc1_c-fc2_c)**2)\n",
    "    tau_r = kendalltau(fc1_c.reshape(-1), fc2_c.reshape(-1))[0]\n",
    "    sp_r = spearmanr(fc1_c.reshape(-1), fc2_c.reshape(-1))[0]\n",
    "    \n",
    "    # block wise metrics\n",
    "    blocks1 = divideFc(fc1)\n",
    "    blocks2 = divideFc(fc2)\n",
    "    reg_r_block = [reg_R_fn(vec1.reshape(1, -1), vec2.reshape(1, -1))[0] \n",
    "                   for vec1, vec2 in zip(blocks1, blocks2)]\n",
    "    lin_r_block = [lin_R_fn(vec1.reshape(1, -1), vec2.reshape(1, -1))[0] \n",
    "                   for vec1, vec2 in zip(blocks1, blocks2)]\n",
    "    \n",
    "    res = edict()\n",
    "    res.geo_dist = geo_dist\n",
    "    res.reg_r = reg_r[0]\n",
    "    res.lin_r = lin_r[0]\n",
    "    res.tau_r = tau_r\n",
    "    res.sp_r = sp_r \n",
    "    res.mse = mse\n",
    "    res.reg_r_block = np.mean(reg_r_block)\n",
    "    res.lin_r_block = np.mean(lin_r_block)\n",
    "    return res\n",
    "\n",
    "def cal_metrics_batch(fc1s, fc2s):\n",
    "    \"\"\"fc1s, fc2s: num_fc x 68 x 68\n",
    "    \"\"\"\n",
    "    ress = ddict(list)\n",
    "    for ix in range(len(fc1s)):\n",
    "        fc_t = fc2s[ix]\n",
    "        fc_e = fc1s[ix]\n",
    "        res = cal_metrics(fc_t, fc_e)\n",
    "        for key, v in res.items():\n",
    "            ress[key].append(v)\n",
    "    \n",
    "    return ress"
   ]
  },
  {
   "cell_type": "code",
   "execution_count": 6,
   "id": "81762f84",
   "metadata": {
    "ExecuteTime": {
     "end_time": "2023-10-26T17:26:36.365546Z",
     "start_time": "2023-10-26T17:26:36.340421Z"
    }
   },
   "outputs": [
    {
     "data": {
      "text/plain": [
       "<function __main__.<lambda>(x)>"
      ]
     },
     "execution_count": 6,
     "metadata": {},
     "output_type": "execute_result"
    }
   ],
   "source": [
    "_minmax_vec = lambda x: (x-np.min(x))/(np.max(x)-np.min(x))"
   ]
  },
  {
   "cell_type": "code",
   "execution_count": 7,
   "id": "9daeac1d",
   "metadata": {
    "ExecuteTime": {
     "end_time": "2023-10-26T17:26:36.808916Z",
     "start_time": "2023-10-26T17:26:36.803065Z"
    }
   },
   "outputs": [],
   "source": [
    "# transfer vec to a sym mat\n",
    "def _vec_2mat(vec):\n",
    "    mat = np.zeros((68, 68))\n",
    "    mat[np.triu_indices(68, k = 1)] = vec\n",
    "    mat = mat + mat.T\n",
    "    return mat"
   ]
  },
  {
   "cell_type": "markdown",
   "id": "12bd0463",
   "metadata": {},
   "source": [
    "### Some parameters"
   ]
  },
  {
   "cell_type": "code",
   "execution_count": 8,
   "id": "1b1c015a",
   "metadata": {
    "ExecuteTime": {
     "end_time": "2023-10-26T17:26:39.029356Z",
     "start_time": "2023-10-26T17:26:39.023405Z"
    }
   },
   "outputs": [],
   "source": [
    "_paras = edict()\n",
    "_paras.delta = [2, 3.5]\n",
    "_paras.theta = [4, 7]\n",
    "_paras.alpha = [8, 12]\n",
    "_paras.beta_l = [13, 20]\n"
   ]
  },
  {
   "cell_type": "code",
   "execution_count": 47,
   "id": "74f883ac",
   "metadata": {
    "ExecuteTime": {
     "end_time": "2023-10-26T17:31:11.550489Z",
     "start_time": "2023-10-26T17:31:11.533159Z"
    }
   },
   "outputs": [
    {
     "name": "stdout",
     "output_type": "stream",
     "text": [
      "[13.   14.75 16.5  18.25 20.  ]\n",
      "rawfc2_SBIxANNBW_beta_l_ep100_num1000_densitynsf_MR3_noise_sd120_addv1\n"
     ]
    }
   ],
   "source": [
    "paras = edict()\n",
    "\n",
    "paras.band= \"beta_l\" #stick to coh\n",
    "paras.freqrange =  np.linspace(_paras[paras.band][0], _paras[paras.band][1], 5)\n",
    "paras.save_prefix = \"rawfc2\"\n",
    "print(paras.freqrange)\n",
    "paras.fs = 600\n",
    "paras.num_nodes = 86 # Number of cortical (68) + subcortical nodes\n",
    "#paras.par_low = np.asarray([0.005,0.005,0.005,5, 0.1,0.001,0.001])\n",
    "#paras.par_high = np.asarray([0.03, 0.20, 0.03,20,  1,    2,  0.7])\n",
    "paras.par_low = np.asarray([0.005, 5, 0.1])\n",
    "paras.par_high = np.asarray([0.03, 20, 1])\n",
    "paras.names = [\"TauC\", \"Speed\", \"alpha\"]\n",
    "paras.prior_bds = np.array([paras.par_low, paras.par_high]).T\n",
    "paras.add_v = 0.01\n",
    "paras.nepoch = 100\n",
    "paras.k = 1 # without ann, k=0.1, with ann, k = 1\n",
    "\n",
    "paras.SBI_paras = edict()\n",
    "paras.SBI_paras.num_prior_sps = int(1e3)\n",
    "paras.SBI_paras.density_model = \"nsf\"\n",
    "paras.SBI_paras.num_round = 3\n",
    "paras.SBI_paras.noise_sd = 1.20\n",
    "paras.SBI_paras.save_dir = (f\"{paras.save_prefix}_SBIxANNBW_{paras.band}_\"\n",
    "                            f\"ep{paras.nepoch}_\"\n",
    "                            f\"num{paras.SBI_paras.num_prior_sps}_\" \n",
    "                            f\"density{paras.SBI_paras.density_model}_\" \n",
    "                            f\"MR{paras.SBI_paras.num_round}_\" \n",
    "                            f\"noise_sd{paras.SBI_paras.noise_sd*100:.0f}_\"\n",
    "                            f\"addv{paras.add_v*100:.0f}\")\n",
    "print(paras.SBI_paras.save_dir)\n",
    "assert (RES_ROOT/paras.SBI_paras.save_dir).exists()"
   ]
  },
  {
   "cell_type": "code",
   "execution_count": 48,
   "id": "0b853363",
   "metadata": {
    "ExecuteTime": {
     "end_time": "2023-10-26T17:31:12.120622Z",
     "start_time": "2023-10-26T17:31:12.114496Z"
    }
   },
   "outputs": [],
   "source": [
    "# fn for reparemetering\n",
    "_map_fn_torch = partial(logistic_torch, k=paras.k)\n",
    "_theta_raw_2out = partial(theta_raw_2out, map_fn=partial(logistic_np, k=paras.k), prior_bds=paras.prior_bds);"
   ]
  },
  {
   "cell_type": "code",
   "execution_count": null,
   "id": "f2b0bc3a",
   "metadata": {
    "ExecuteTime": {
     "end_time": "2023-09-22T16:33:09.116370Z",
     "start_time": "2023-09-22T16:33:09.103735Z"
    }
   },
   "outputs": [],
   "source": []
  },
  {
   "cell_type": "code",
   "execution_count": null,
   "id": "d66040ab",
   "metadata": {},
   "outputs": [],
   "source": []
  },
  {
   "cell_type": "markdown",
   "id": "cc57cec6",
   "metadata": {},
   "source": [
    "### Load the data"
   ]
  },
  {
   "cell_type": "code",
   "execution_count": 49,
   "id": "b78325a1",
   "metadata": {
    "ExecuteTime": {
     "end_time": "2023-10-26T17:31:13.674828Z",
     "start_time": "2023-10-26T17:31:13.649690Z"
    }
   },
   "outputs": [],
   "source": [
    "# SC\n",
    "ind_conn_xr = xr.open_dataarray(DATA_ROOT/'individual_connectomes_reordered.nc')\n",
    "ind_conn = ind_conn_xr.values\n",
    "# PSD\n",
    "ind_psd_xr = xr.open_dataarray(DATA_ROOT/'individual_psd_reordered_matlab.nc')\n",
    "ind_psd = ind_psd_xr.values\n",
    "fvec = ind_psd_xr[\"frequencies\"].values;"
   ]
  },
  {
   "cell_type": "code",
   "execution_count": 50,
   "id": "ee5a4fc9",
   "metadata": {
    "ExecuteTime": {
     "end_time": "2023-10-26T17:31:14.309152Z",
     "start_time": "2023-10-26T17:31:14.274512Z"
    }
   },
   "outputs": [
    {
     "name": "stdout",
     "output_type": "stream",
     "text": [
      "Add 0.01 on diag\n"
     ]
    }
   ],
   "source": [
    "\n",
    "def _add_v2con(cur_ind_conn):\n",
    "    cur_ind_conn = cur_ind_conn.copy()\n",
    "    add_v = np.quantile(cur_ind_conn, 0.99)*paras.add_v # tuning 0.1\n",
    "    np.fill_diagonal(cur_ind_conn[:34, 34:68], np.diag(cur_ind_conn[:34, 34:68]) + add_v)\n",
    "    np.fill_diagonal(cur_ind_conn[34:68, :34], np.diag(cur_ind_conn[34:68, :34]) + add_v)\n",
    "    if cur_ind_conn.shape[0] == 68:\n",
    "        return cur_ind_conn\n",
    "    np.fill_diagonal(cur_ind_conn[68:77, 77:], np.diag(cur_ind_conn[68:77, 77:]) + add_v)\n",
    "    np.fill_diagonal(cur_ind_conn[77:, 68:77], np.diag(cur_ind_conn[77:, 68:77]) + add_v)\n",
    "    return cur_ind_conn\n",
    "\n",
    "\n",
    "if paras.add_v != 0:\n",
    "    print(f\"Add {paras.add_v} on diag\")\n",
    "    ind_conn_adds = [_add_v2con(ind_conn[:, :, ix]) for ix in range(36)]\n",
    "    ind_conn = np.transpose(np.array(ind_conn_adds), (1, 2, 0))"
   ]
  },
  {
   "cell_type": "code",
   "execution_count": 51,
   "id": "8946be59",
   "metadata": {
    "ExecuteTime": {
     "end_time": "2023-10-26T17:31:16.290636Z",
     "start_time": "2023-10-26T17:31:15.065056Z"
    }
   },
   "outputs": [
    {
     "data": {
      "text/plain": [
       "(36, 68, 68)"
      ]
     },
     "execution_count": 51,
     "metadata": {},
     "output_type": "execute_result"
    }
   ],
   "source": [
    "# em FC\n",
    "fc_root = RES_ROOT/\"emp_fcs2\"\n",
    "def _get_fc(sub_ix, bd):\n",
    "    fil = list(fc_root.rglob(f\"*{bd}*nepoch-{paras.nepoch}*/sub{sub_ix}.pkl\"))[0]\n",
    "    return load_pkl(fil, verbose=False)\n",
    "\n",
    "fcs = np.array([_get_fc(sub_ix, paras.band) for sub_ix in range(36)]);\n",
    "fcs.shape"
   ]
  },
  {
   "cell_type": "markdown",
   "id": "88dc5304",
   "metadata": {},
   "source": [
    "## All data analysis"
   ]
  },
  {
   "cell_type": "code",
   "execution_count": 52,
   "id": "52e911f0",
   "metadata": {
    "ExecuteTime": {
     "end_time": "2023-10-26T17:31:20.552493Z",
     "start_time": "2023-10-26T17:31:20.543025Z"
    }
   },
   "outputs": [],
   "source": [
    "res_fils = list((RES_ROOT/paras.SBI_paras.save_dir).glob(\"ind*.pkl\"))\n",
    "_sorted_fn = lambda x: int(x.stem.split(\"ind\")[-1][:])\n",
    "sorted_fils = sorted(res_fils, key=_sorted_fn);"
   ]
  },
  {
   "cell_type": "code",
   "execution_count": null,
   "id": "0db365e4",
   "metadata": {
    "ExecuteTime": {
     "end_time": "2023-10-26T17:31:32.603687Z",
     "start_time": "2023-10-26T17:31:21.364659Z"
    },
    "scrolled": true
   },
   "outputs": [],
   "source": [
    "# get the estimate parameters\n",
    "est_params =[]\n",
    "for sub_idx in range(36):\n",
    "    cur_posterior = load_pkl(sorted_fils[sub_idx], False)\n",
    "    post_sps = cur_posterior.sample((1000, ))\n",
    "    cur_est_paras = torch.mean(post_sps, axis=0)\n",
    "\n",
    "    params = []\n",
    "    for raw_param, prior_bd in zip(cur_est_paras, paras.prior_bds):\n",
    "        param =  _map_fn_torch(raw_param)*(prior_bd[1]-prior_bd[0]) + prior_bd[0]\n",
    "        params.append(param)\n",
    "    params = torch.tensor(params)\n",
    "    params_dict = dict()\n",
    "    params_dict[\"tauC\"] =  params[0].item()\n",
    "    params_dict[\"speed\"] =  params[1].item()\n",
    "    params_dict[\"alpha\"] =  params[2].item()\n",
    "    est_params.append(params_dict)"
   ]
  },
  {
   "cell_type": "code",
   "execution_count": 54,
   "id": "96b85dcd",
   "metadata": {},
   "outputs": [],
   "source": [
    "def _simulate_data1(raw_params, brain, freqrange):\n",
    "    modelFC = build_fc_freq_m(brain , raw_params, freqrange)\n",
    "    return np.abs(modelFC[:68, :68])\n",
    "def _get_metric(cur_params, sub_idx):\n",
    "    \"\"\"Get the metric for the individual with the given parameters and sub_idx\n",
    "    \"\"\"\n",
    "    ## get the cur brain\n",
    "    brain = Brain.Brain()\n",
    "    brain.add_connectome(DATA_ROOT) # grabs distance matrix\n",
    "    brain.reorder_connectome(brain.connectome, brain.distance_matrix)\n",
    "    brain.connectome =  ind_conn[:, :, sub_idx] # re-assign connectome to individual connectome\n",
    "    brain.bi_symmetric_c()\n",
    "    brain.reduce_extreme_dir()\n",
    "    cur_obs_FC = np.abs(fcs[sub_idx])\n",
    "    cur_est_FC = np.abs(_simulate_data1(cur_params, brain, paras.freqrange));\n",
    "    metric = cal_metrics(cur_obs_FC, cur_est_FC)\n",
    "    return metric"
   ]
  },
  {
   "cell_type": "raw",
   "id": "ee13932f",
   "metadata": {},
   "source": [
    "# for speed only, backup\n",
    "vs = [5, 10, 20, 30, 50, 70, 90, 110]\n",
    "metricss = []\n",
    "for v in tqdm(vs): \n",
    "    metrics = []\n",
    "    for sub_idx in range(36):\n",
    "        cur_params = est_params[sub_idx]\n",
    "        # skip the individual with speed not close to 20 (the boundary)\n",
    "        if np.abs(cur_params[\"speed\"] - 20) > 0.5: \n",
    "            continue\n",
    "        cur_params = cur_params.copy()\n",
    "        if v != 20: \n",
    "            cur_params[\"speed\"] = v\n",
    "        metric = _get_metric(cur_params, sub_idx)\n",
    "        metrics.append(metric)\n",
    "    metricss.append(metrics)"
   ]
  },
  {
   "cell_type": "code",
   "execution_count": 55,
   "id": "2ce2ed67",
   "metadata": {},
   "outputs": [],
   "source": [
    "def _get_metrics(vs, param):\n",
    "    \"\"\" \n",
    "    args: \n",
    "        - vs (list): the values of the parameter\n",
    "        - param (str): the parameter name \n",
    "            tauC, speed, alpha\n",
    "    \"\"\"\n",
    "    metricss = []\n",
    "    for v in tqdm(vs, desc=param): \n",
    "        metrics = []\n",
    "        for sub_idx in range(36):\n",
    "            cur_params = est_params[sub_idx]\n",
    "            cur_params = cur_params.copy()\n",
    "            cur_params[param] = v\n",
    "            metric = _get_metric(cur_params, sub_idx)\n",
    "            metrics.append(metric)\n",
    "        metricss.append(metrics)\n",
    "    return metricss"
   ]
  },
  {
   "cell_type": "code",
   "execution_count": 56,
   "id": "7caf576e",
   "metadata": {},
   "outputs": [
    {
     "name": "stderr",
     "output_type": "stream",
     "text": [
      "tauC:   0%|                                                                                | 0/7 [00:00<?, ?it/s]"
     ]
    },
    {
     "name": "stderr",
     "output_type": "stream",
     "text": [
      "tauC: 100%|████████████████████████████████████████████████████████████████████████| 7/7 [00:32<00:00,  4.59s/it]\n",
      "alpha: 100%|███████████████████████████████████████████████████████████████████████| 6/6 [00:32<00:00,  5.34s/it]\n",
      "speed: 100%|███████████████████████████████████████████████████████████████████████| 8/8 [00:48<00:00,  6.12s/it]\n"
     ]
    }
   ],
   "source": [
    "speeds = [5, 10, 20, 30, 50, 70, 90, 110]\n",
    "tauGs = [0.001, 0.002, 0.005, 0.01, 0.02, 0.03, 0.05]\n",
    "alphas = [0.1, 0.3, 0.5, 0.7, 0.9, 1.0]\n",
    "metricss_tauC = _get_metrics(tauGs, \"tauC\");\n",
    "metricss_alpha = _get_metrics(alphas, \"alpha\");\n",
    "metricss_speed = _get_metrics(speeds, \"speed\");"
   ]
  },
  {
   "cell_type": "code",
   "execution_count": 57,
   "id": "30d1b812",
   "metadata": {},
   "outputs": [],
   "source": [
    "from collections import defaultdict as ddict\n",
    "col = \"mse\"\n",
    "names = [\"tauC\", \"speed\", \"alpha\"]\n",
    "metricss = [metricss_tauC, metricss_speed, metricss_alpha]\n",
    "vss = [tauGs, speeds, alphas]\n",
    "summary = ddict(list)\n",
    "for name, metrics in zip(names, metricss):\n",
    "    for metric in metrics:\n",
    "        df = pd.DataFrame(metric)\n",
    "        summary[name].append(df.mean()[col])"
   ]
  },
  {
   "cell_type": "code",
   "execution_count": 58,
   "id": "809c56f8",
   "metadata": {},
   "outputs": [
    {
     "data": {
      "image/png": "[encoded data removed]",
      "text/plain": [
       "<Figure size 500x500 with 1 Axes>"
      ]
     },
     "metadata": {},
     "output_type": "display_data"
    },
    {
     "data": {
      "image/png": "[encoded data removed]",
      "text/plain": [
       "<Figure size 500x500 with 1 Axes>"
      ]
     },
     "metadata": {},
     "output_type": "display_data"
    },
    {
     "data": {
      "image/png": "[encoded data removed]",
      "text/plain": [
       "<Figure size 500x500 with 1 Axes>"
      ]
     },
     "metadata": {},
     "output_type": "display_data"
    }
   ],
   "source": [
    "names_latex = [\"$\\\\tau_G$ (ms)\", \"$v$ (m/s)\", \"$\\\\alpha$ (a.u.)\"]\n",
    "for idx in range(3):\n",
    "    plt.figure(figsize=(5, 5))\n",
    "    plt.plot(vss[idx], summary[names[idx]])\n",
    "    plt.ylabel(\"Average MSE\")\n",
    "    plt.axvline(x=paras.par_low[idx], color=\"r\", linestyle=\"--\")\n",
    "    plt.axvline(x=paras.par_high[idx], color=\"r\", linestyle=\"--\")\n",
    "    plt.xlabel(f\"{names_latex[idx]}\")\n",
    "    plt.savefig(FIG_ROOT/f\"band{paras.band}_param_{names[idx]}.png\")"
   ]
  },
  {
   "cell_type": "code",
   "execution_count": null,
   "id": "5d7462c2",
   "metadata": {},
   "outputs": [],
   "source": []
  },
  {
   "cell_type": "code",
   "execution_count": null,
   "id": "3f83442a",
   "metadata": {},
   "outputs": [],
   "source": []
  }
 ],
 "metadata": {
  "kernelspec": {
   "display_name": "Python 3 (ipykernel)",
   "language": "python",
   "name": "python3"
  },
  "language_info": {
   "codemirror_mode": {
    "name": "ipython",
    "version": 3
   },
   "file_extension": ".py",
   "mimetype": "text/x-python",
   "name": "python",
   "nbconvert_exporter": "python",
   "pygments_lexer": "ipython3",
   "version": "3.9.19"
  },
  "toc": {
   "base_numbering": 1,
   "nav_menu": {},
   "number_sections": true,
   "sideBar": true,
   "skip_h1_title": false,
   "title_cell": "Table of Contents",
   "title_sidebar": "Contents",
   "toc_cell": false,
   "toc_position": {
    "height": "calc(100% - 180px)",
    "left": "10px",
    "top": "150px",
    "width": "165px"
   },
   "toc_section_display": true,
   "toc_window_display": true
  }
 },
 "nbformat": 4,
 "nbformat_minor": 5
}
