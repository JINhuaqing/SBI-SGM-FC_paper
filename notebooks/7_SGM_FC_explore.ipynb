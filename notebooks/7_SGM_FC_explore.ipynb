{
 "cells": [
  {
   "cell_type": "markdown",
   "id": "089a43ab",
   "metadata": {},
   "source": [
    "Draw FC from SGM at different freqs and SGM params"
   ]
  },
  {
   "cell_type": "markdown",
   "id": "15b93230",
   "metadata": {},
   "source": [
    "## Import some pkgs"
   ]
  },
  {
   "cell_type": "code",
   "execution_count": 1,
   "id": "a5c4bef0",
   "metadata": {
    "ExecuteTime": {
     "end_time": "2024-02-05T07:44:52.305652Z",
     "start_time": "2024-02-05T07:44:50.191236Z"
    }
   },
   "outputs": [],
   "source": [
    "import sys\n",
    "sys.path.append(\"./mypkg\")\n",
    "\n",
    "import scipy\n",
    "import itertools\n",
    "\n",
    "import numpy as np\n",
    "import xarray as xr\n",
    "import matplotlib.pyplot as plt\n",
    "import seaborn as sns\n",
    "\n",
    "from tqdm import trange\n",
    "from scipy.io import loadmat\n",
    "from functools import partial\n",
    "from easydict import EasyDict as edict\n"
   ]
  },
  {
   "cell_type": "code",
   "execution_count": 2,
   "id": "7f01d011",
   "metadata": {
    "ExecuteTime": {
     "end_time": "2024-02-05T07:44:52.338485Z",
     "start_time": "2024-02-05T07:44:52.308948Z"
    }
   },
   "outputs": [],
   "source": [
    "%load_ext autoreload\n",
    "%autoreload 2"
   ]
  },
  {
   "cell_type": "code",
   "execution_count": 3,
   "id": "513f09d5",
   "metadata": {
    "ExecuteTime": {
     "end_time": "2024-02-05T07:44:53.323601Z",
     "start_time": "2024-02-05T07:44:52.339697Z"
    }
   },
   "outputs": [],
   "source": [
    "# my own fns\n",
    "from brain import Brain\n",
    "from FC_utils import build_fc_freq_m\n",
    "from constants import RES_ROOT, DATA_ROOT, FIG_ROOT\n",
    "from utils.misc import load_pkl, save_pkl\n",
    "from utils.reparam import theta_raw_2out, logistic_np, logistic_torch\n",
    "\n",
    "plt.style.use(FIG_ROOT/\"base.mplstyle\")"
   ]
  },
  {
   "cell_type": "code",
   "execution_count": null,
   "id": "d5b87c78",
   "metadata": {
    "ExecuteTime": {
     "end_time": "2022-11-08T00:03:09.655902Z",
     "start_time": "2022-11-08T00:03:09.466344Z"
    }
   },
   "outputs": [],
   "source": []
  },
  {
   "cell_type": "markdown",
   "id": "820f27bd",
   "metadata": {},
   "source": [
    "### Some fns"
   ]
  },
  {
   "cell_type": "code",
   "execution_count": 4,
   "id": "81762f84",
   "metadata": {
    "ExecuteTime": {
     "end_time": "2024-02-05T07:44:53.365791Z",
     "start_time": "2024-02-05T07:44:53.330235Z"
    }
   },
   "outputs": [
    {
     "data": {
      "text/plain": [
       "<function __main__.<lambda>(x)>"
      ]
     },
     "execution_count": 4,
     "metadata": {},
     "output_type": "execute_result"
    }
   ],
   "source": [
    "_minmax_vec = lambda x: (x-np.min(x))/(np.max(x)-np.min(x))"
   ]
  },
  {
   "cell_type": "code",
   "execution_count": 5,
   "id": "9daeac1d",
   "metadata": {
    "ExecuteTime": {
     "end_time": "2024-02-05T07:44:53.393480Z",
     "start_time": "2024-02-05T07:44:53.368331Z"
    }
   },
   "outputs": [],
   "source": [
    "# transfer vec to a sym mat\n",
    "def vec_2mat(vec):\n",
    "    mat = np.zeros((68, 68))\n",
    "    mat[np.triu_indices(68, k = 1)] = vec\n",
    "    mat = mat + mat.T\n",
    "    return mat"
   ]
  },
  {
   "cell_type": "code",
   "execution_count": null,
   "id": "c2112ea2",
   "metadata": {},
   "outputs": [],
   "source": []
  },
  {
   "cell_type": "markdown",
   "id": "12bd0463",
   "metadata": {},
   "source": [
    "### Some parameters"
   ]
  },
  {
   "cell_type": "code",
   "execution_count": 6,
   "id": "5da1fc37",
   "metadata": {
    "ExecuteTime": {
     "end_time": "2024-02-05T07:44:53.857444Z",
     "start_time": "2024-02-05T07:44:53.395087Z"
    }
   },
   "outputs": [],
   "source": [
    "# SC\n",
    "ind_conn_xr = xr.open_dataarray(DATA_ROOT/'individual_connectomes_reordered.nc')\n",
    "ind_conn = ind_conn_xr.values\n",
    "\n",
    "# PSD\n",
    "ind_psd_xr = xr.open_dataarray(DATA_ROOT/'individual_psd_reordered_matlab.nc')\n",
    "ind_psd = ind_psd_xr.values\n",
    "fvec = ind_psd_xr[\"frequencies\"].values;"
   ]
  },
  {
   "cell_type": "code",
   "execution_count": 7,
   "id": "c034879f",
   "metadata": {
    "ExecuteTime": {
     "end_time": "2024-02-05T07:44:53.892585Z",
     "start_time": "2024-02-05T07:44:53.861217Z"
    }
   },
   "outputs": [],
   "source": [
    "_paras = edict()\n",
    "_paras.delta = [2, 3.5]\n",
    "_paras.theta = [4, 7]\n",
    "_paras.alpha = [8, 12]\n",
    "_paras.beta_l = [13, 20]"
   ]
  },
  {
   "cell_type": "code",
   "execution_count": 13,
   "id": "74f883ac",
   "metadata": {
    "ExecuteTime": {
     "end_time": "2024-02-05T07:48:18.590347Z",
     "start_time": "2024-02-05T07:48:18.405756Z"
    }
   },
   "outputs": [],
   "source": [
    "paras = edict()\n",
    "\n",
    "paras.nepoch = 100\n",
    "paras.fs = 600\n",
    "paras.par_low = np.asarray([0.005, 5, 0.1])\n",
    "paras.par_high = np.asarray([0.03, 20, 1])\n",
    "paras.names = [\"tauC\", \"speed\", \"alpha\"]\n",
    "\n",
    "\n",
    "paras.allbds = [\"delta\", \"theta\", \"alpha\", \"beta_l\"]\n",
    "paras.add_v = 0.01\n"
   ]
  },
  {
   "cell_type": "code",
   "execution_count": null,
   "id": "f4a48f79",
   "metadata": {},
   "outputs": [],
   "source": []
  },
  {
   "cell_type": "code",
   "execution_count": null,
   "id": "d66040ab",
   "metadata": {},
   "outputs": [],
   "source": []
  },
  {
   "cell_type": "markdown",
   "id": "cc57cec6",
   "metadata": {},
   "source": [
    "### Load the data"
   ]
  },
  {
   "cell_type": "code",
   "execution_count": 9,
   "id": "ba9b2e25",
   "metadata": {
    "ExecuteTime": {
     "end_time": "2024-02-05T07:45:13.163761Z",
     "start_time": "2024-02-05T07:45:13.110328Z"
    }
   },
   "outputs": [
    {
     "data": {
      "text/plain": [
       "['delta', 'theta', 'alpha', 'beta_l']"
      ]
     },
     "execution_count": 9,
     "metadata": {},
     "output_type": "execute_result"
    }
   ],
   "source": [
    "brain = Brain.Brain()\n",
    "brain.add_connectome(DATA_ROOT) # grabs distance matrix\n",
    "brain.reorder_connectome(brain.connectome, brain.distance_matrix)\n",
    "brain.bi_symmetric_c()\n",
    "brain.reduce_extreme_dir()\n",
    "\n",
    "bands = [\"delta\", \"theta\", \"alpha\", \"beta_l\"]"
   ]
  },
  {
   "cell_type": "code",
   "execution_count": null,
   "id": "e78dd855",
   "metadata": {
    "ExecuteTime": {
     "end_time": "2024-02-05T07:45:29.083561Z",
     "start_time": "2024-02-05T07:45:21.960584Z"
    },
    "scrolled": true
   },
   "outputs": [],
   "source": [
    "# get the posterior sps\n",
    "par_low = np.asarray([0.005, 5, 0.1])\n",
    "par_high = np.asarray([0.03, 20, 1])\n",
    "prior_bds = np.array([par_low, par_high]).T;\n",
    "_theta_raw_2out = partial(theta_raw_2out, map_fn=partial(logistic_np, k=1), prior_bds=prior_bds);\n",
    "\n",
    "post_spss = []\n",
    "ab_res_fils = list(RES_ROOT.glob(f\"rawfc2allbd_SBIxANNALLBD_\"\n",
    "                                 f\"{'-'.join(paras.allbds)}_\"\n",
    "                                 f\"ep{paras.nepoch}_\"\n",
    "                                 f\"num1000_densitynsf_MR3_noise_sd120_\"\n",
    "                                 f\"addv{paras.add_v*100:.0f}\"\n",
    "                                 f\"/ind*.pkl\"))\n",
    "ab_res_fils = sorted(ab_res_fils, key=lambda p: int(p.stem.split(\"ind\")[-1]));\n",
    "for fil in ab_res_fils:\n",
    "    res = load_pkl(fil, verbose=False);\n",
    "    sps = res.sample((1000, ));\n",
    "    post_sps = _theta_raw_2out(sps.numpy());\n",
    "    post_spss.append(post_sps)"
   ]
  },
  {
   "cell_type": "code",
   "execution_count": 12,
   "id": "930bad2f",
   "metadata": {
    "ExecuteTime": {
     "end_time": "2024-02-05T07:47:11.470417Z",
     "start_time": "2024-02-05T07:47:11.269412Z"
    }
   },
   "outputs": [
    {
     "data": {
      "text/plain": [
       "{'tauC': 0.005013024009366304,\n",
       " 'speed': 19.993560992007453,\n",
       " 'alpha': 0.7468937225688176}"
      ]
     },
     "execution_count": 12,
     "metadata": {},
     "output_type": "execute_result"
    }
   ],
   "source": [
    "est_params = np.array(post_spss).mean(axis=(0, 1))\n",
    "\n",
    "base_sgmparams = edict({ \"tauC\":est_params[0], \n",
    "                        \"speed\":est_params[1], \n",
    "                        \"alpha\":est_params[2]})"
   ]
  },
  {
   "cell_type": "markdown",
   "id": "5ee78c26",
   "metadata": {},
   "source": [
    "## Get plots"
   ]
  },
  {
   "cell_type": "code",
   "execution_count": 35,
   "id": "265fe53b",
   "metadata": {
    "ExecuteTime": {
     "end_time": "2024-02-05T07:56:49.407698Z",
     "start_time": "2024-02-05T07:56:49.369261Z"
    }
   },
   "outputs": [],
   "source": [
    "cur_params = 'alpha'\n",
    "uplim = paras.par_high[paras.names.index(cur_params)]\n",
    "lowlim = paras.par_low[paras.names.index(cur_params)]\n",
    "midpt = (uplim+lowlim)/2\n",
    "\n",
    "sgmparams_ub = base_sgmparams.copy()\n",
    "sgmparams_ub[cur_params] = uplim\n",
    "sgmparams_lb = base_sgmparams.copy()\n",
    "sgmparams_lb[cur_params] = lowlim\n",
    "sgmparams_mid = base_sgmparams.copy()\n",
    "sgmparams_mid[cur_params] = midpt\n",
    "\n",
    "sgmparamss = edict()\n",
    "sgmparamss.ub = sgmparams_ub\n",
    "sgmparamss.lb = sgmparams_lb\n",
    "sgmparamss.mid = sgmparams_mid"
   ]
  },
  {
   "cell_type": "code",
   "execution_count": 38,
   "id": "fbb2d18e",
   "metadata": {
    "ExecuteTime": {
     "end_time": "2024-02-05T07:57:20.172706Z",
     "start_time": "2024-02-05T07:57:10.830551Z"
    }
   },
   "outputs": [],
   "source": [
    "key = \"ub\"\n",
    "fcs = []\n",
    "for band in bands:\n",
    "    freqrange =  np.linspace(_paras[band][0], _paras[band][1], 5)\n",
    "    fc = build_fc_freq_m(brain, sgmparamss[key], freqrange)\n",
    "    fcs.append(fc[:68, :68])\n",
    "    \n",
    "for bandix in range(len(bands)):\n",
    "    sns.heatmap(fcs[bandix], square=True, cbar=False, cmap=\"viridis\", vmin=0.1, vmax=0.3)\n",
    "    \n",
    "    plt.yticks([])\n",
    "    plt.xticks([]);\n",
    "    plt.savefig(FIG_ROOT/f\"SGMsimu_FC_{cur_params}_{bands[bandix]}_{key}.jpg\")\n",
    "    plt.close()"
   ]
  },
  {
   "cell_type": "code",
   "execution_count": null,
   "id": "e875b68b",
   "metadata": {},
   "outputs": [],
   "source": []
  },
  {
   "cell_type": "code",
   "execution_count": 29,
   "id": "ecbba8a3",
   "metadata": {
    "ExecuteTime": {
     "end_time": "2024-02-05T07:56:03.057498Z",
     "start_time": "2024-02-05T07:56:00.263832Z"
    }
   },
   "outputs": [
    {
     "data": {
      "image/png": "[encoded data removed]",
      "text/plain": [
       "<Figure size 1000x1000 with 2 Axes>"
      ]
     },
     "metadata": {
      "needs_background": "light"
     },
     "output_type": "display_data"
    }
   ],
   "source": [
    "# get color bar\n",
    "ax = sns.heatmap(fcs[bandix], square=True, cbar=False, \n",
    "                 cmap=\"viridis\", vmin=0.1, vmax=0.3)\n",
    "\n",
    "cbar = plt.colorbar(ax.collections[0], orientation='horizontal')\n",
    "plt.savefig(FIG_ROOT/f\"SGMsimu_FC_colorbar.jpg\")"
   ]
  },
  {
   "cell_type": "code",
   "execution_count": 24,
   "id": "30e0b113",
   "metadata": {
    "ExecuteTime": {
     "end_time": "2024-02-04T07:01:29.839759Z",
     "start_time": "2024-02-04T07:01:29.667549Z"
    }
   },
   "outputs": [],
   "source": []
  },
  {
   "cell_type": "code",
   "execution_count": null,
   "id": "4b8093b5",
   "metadata": {},
   "outputs": [],
   "source": []
  },
  {
   "cell_type": "code",
   "execution_count": null,
   "id": "be519cad",
   "metadata": {},
   "outputs": [],
   "source": []
  }
 ],
 "metadata": {
  "kernelspec": {
   "display_name": "Python 3 (ipykernel)",
   "language": "python",
   "name": "python3"
  },
  "language_info": {
   "codemirror_mode": {
    "name": "ipython",
    "version": 3
   },
   "file_extension": ".py",
   "mimetype": "text/x-python",
   "name": "python",
   "nbconvert_exporter": "python",
   "pygments_lexer": "ipython3",
   "version": "3.9.7"
  },
  "toc": {
   "base_numbering": 1,
   "nav_menu": {},
   "number_sections": true,
   "sideBar": true,
   "skip_h1_title": false,
   "title_cell": "Table of Contents",
   "title_sidebar": "Contents",
   "toc_cell": false,
   "toc_position": {
    "height": "calc(100% - 180px)",
    "left": "10px",
    "top": "150px",
    "width": "204.594px"
   },
   "toc_section_display": true,
   "toc_window_display": true
  }
 },
 "nbformat": 4,
 "nbformat_minor": 5
}
